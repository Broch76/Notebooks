{
 "cells": [
  {
   "cell_type": "code",
   "execution_count": 1,
   "metadata": {
    "collapsed": true
   },
   "outputs": [],
   "source": [
    "from scipy.optimize import fsolve\n",
    "from matplotlib import pyplot as plt\n",
    "from numpy import *\n",
    "from scipy.integrate import odeint\n",
    "%matplotlib inline\n",
    "from scipy.interpolate import interp1d"
   ]
  },
  {
   "cell_type": "code",
   "execution_count": 2,
   "metadata": {
    "collapsed": false
   },
   "outputs": [
    {
     "name": "stdout",
     "output_type": "stream",
     "text": [
      "T = 764.898167259\n",
      "Fst = 0.894158564593\n",
      "S = 19.3076281241\n"
     ]
    },
    {
     "data": {
      "image/png": "[encoded data removed]",
      "text/plain": [
       "<matplotlib.figure.Figure at 0x1a41636d780>"
      ]
     },
     "metadata": {},
     "output_type": "display_data"
    }
   ],
   "source": [
    "\"\"\"a)-c)\"\"\"\n",
    "V = 10 #m3\n",
    "Febo = 0.00344 #kmol/s\n",
    "Fso = 14.5 * Febo\n",
    "Ftoto = Febo + Fso\n",
    "Ptoto = 2.4 #atm\n",
    "R = 8.314\n",
    "To = 800\n",
    "# Qo =  (Fs + Feb)*R*To/(Ptoto*101.325)\n",
    "Cpm, Cpe, Cpb, Cpt, Cpst, Cpeb, Cph, Cps = 68,90,201,249,273,299,30,40\n",
    "Hrxn1o,Hrxn2o,Hrxn3o =118000,105200,-53900\n",
    "dCp1 = -Cpeb + Cpst + Cph\n",
    "dCp2 = -Cpeb + Cpb + Cpe\n",
    "dCp3 = -Cpeb - Cph + Cpt + Cpm\n",
    "\n",
    "def Hrxn(T):\n",
    "    Hrxn1 = Hrxn1o + dCp1*(T - 300)\n",
    "    Hrxn2 = Hrxn2o + dCp2*(T - 300)\n",
    "    Hrxn3 = Hrxn3o + dCp3*(T - 300)\n",
    "    return [Hrxn1,Hrxn2,Hrxn3]    \n",
    "    \n",
    "b1 = -17.34 \n",
    "b4 = -2.314E-10\n",
    "b5 = 1.302E-6\n",
    "b2 = - 1.302E4\n",
    "b3 = 5.051\n",
    "b6 = -4.931E-3 \n",
    "rho_c = 2137 #kg/m3 of pellet\n",
    "porosity = 0.4\n",
    "rho_b = rho_c*(1-porosity)\n",
    "\n",
    "def ddt(Initial,dt):\n",
    "    Feb, Fs, Fm, Fe, Fb, Ft, Fst, Fh ,T= Initial\n",
    "    \n",
    "    Ftot = Fm + Fe + Fb + Ft + Fst + Feb + Fh + Fs\n",
    "    \n",
    "    Peb = Feb/Ftot*Ptoto\n",
    "    Pst = Fst/Ftot*Ptoto\n",
    "    Ph = Fh/Ftot*Ptoto\n",
    "    \n",
    "    Kp1 = exp(b1 + b2/T + b3*log(T) + ((b4*T+ b5)*T+ b6)*T)\n",
    "              \n",
    "    r1st = rho_b*exp(-0.08539 - 10925/T)*(Peb - Pst*Ph/Kp1)\n",
    "    r2B = rho_b*exp(13.2392 - 25000/T)*(Peb)\n",
    "    r3T = rho_b*exp(0.2961 - 11000/T)*(Peb*Ph)\n",
    "        \n",
    "    dNmdV = r3T\n",
    "    dNedV = r2B\n",
    "    dNbdV = r2B\n",
    "    dNtdV = r3T\n",
    "    dNstdV = r1st\n",
    "    dNebdV = -r1st - r2B - r3T\n",
    "    dNhdV = r1st - r3T\n",
    "    dNsdV = 0 \n",
    "    \n",
    "    Hrxn1,Hrxn2,Hrxn3 = Hrxn(T)\n",
    "    dTdV = (-r1st*Hrxn1 - r2B*Hrxn2 - r3T*Hrxn3)/(Fm*Cpm + Fe*Cpe + Fb*Cpb + Ft*Cpt + Fst*Cpst + Feb*Cpeb + Fh*Cph + Fs*Cps)\n",
    "    return dNebdV,dNsdV,dNmdV,dNedV,dNbdV,dNtdV,dNstdV,dNhdV,dTdV\n",
    "To = 800\n",
    "Vspan = linspace(0,V,101)\n",
    "ANS = odeint(ddt,[Febo,Fso,0,0,0,0,0,0,To],Vspan)\n",
    "Temp = ANS[:,8]\n",
    "Fst = ANS[:,6]\n",
    "Fb = ANS[:,4]\n",
    "Ft = ANS[:,5]\n",
    "plt.plot(Vspan,Temp)\n",
    "print ('T = ' + str(Temp[-1]))\n",
    "print ('Fst = ' + str(Fst[-1]*1000))\n",
    "print ('S = ' + str(Fst[-1]/(Ft[-1] + Fb[-1])))"
   ]
  },
  {
   "cell_type": "code",
   "execution_count": 22,
   "metadata": {
    "collapsed": false
   },
   "outputs": [
    {
     "name": "stdout",
     "output_type": "stream",
     "text": [
      "889.046220984 948.28285348\n",
      "0.7 10.0\n"
     ]
    },
    {
     "data": {
      "image/png": "[encoded data removed]",
      "text/plain": [
       "<matplotlib.figure.Figure at 0x1a416c37ef0>"
      ]
     },
     "metadata": {},
     "output_type": "display_data"
    }
   ],
   "source": [
    "To = 900\n",
    "Ua = 5/3\n",
    "Tu = 950\n",
    "Febo = 0.00344 #kmol/s\n",
    "Fso = 10 * Febo\n",
    "Ptoto = 2.4 #atm\n",
    "Ftoto = Febo + Fso\n",
    "KP = 0.06\n",
    "\n",
    "def ddtnon(Initial,dt):\n",
    "    Feb, Fs, Fm, Fe, Fb, Ft, Fst, Fh ,T , P= Initial\n",
    "    \n",
    "    Ftot = Fm + Fe + Fb + Ft + Fst + Feb + Fh + Fs\n",
    "    \n",
    "    Peb = Feb/Ftot*P\n",
    "    Pst = Fst/Ftot*P\n",
    "    Ph = Fh/Ftot*P\n",
    "    \n",
    "    Kp1 = exp(b1 + b2/T + b3*log(T) + ((b4*T+ b5)*T+ b6)*T)\n",
    "              \n",
    "    r1st = rho_b*exp(-0.08539 - 10925/T)*(Peb - Pst*Ph/Kp1)\n",
    "    r2B = rho_b*exp(13.2392 - 25000/T)*(Peb)\n",
    "    r3T = rho_b*exp(0.2961 - 11000/T)*(Peb*Ph)\n",
    "              \n",
    "    dNmdV = r3T\n",
    "    dNedV = r2B\n",
    "    dNbdV = r2B\n",
    "    dNtdV = r3T\n",
    "    dNstdV = r1st\n",
    "    dNebdV = -r1st - r2B - r3T\n",
    "    dNhdV = r1st - r3T\n",
    "    dNsdV = 0 \n",
    "    \n",
    "    Hrxn1,Hrxn2,Hrxn3 = Hrxn(T)\n",
    "    dTdV = (-r1st*Hrxn1 - r2B*Hrxn2 - r3T*Hrxn3 + Ua*(Tu - T))/(Fm*Cpm + Fe*Cpe + Fb*Cpb + Ft*Cpt\n",
    "                                                                + Fst*Cpst + Feb*Cpeb + Fh*Cph + Fs*Cps)\n",
    "    \n",
    "    dPdV = -KP*Ptoto*Ftot*T/(P*Ftoto*To)\n",
    "    return dNebdV,dNsdV,dNmdV,dNedV,dNbdV,dNtdV,dNstdV,dNhdV,dTdV,dPdV\n",
    "\n",
    "\n",
    "\n",
    "ANS = odeint(ddtnon,[Febo,Fso,0,0,0,0,0,0,To,Ptoto],Vspan)\n",
    "Fst = ANS[:,6]\n",
    "Fb = ANS[:,4]\n",
    "Ft = ANS[:,5]\n",
    "Temp = ANS[:,8]\n",
    "Pressure = ANS[:,9]\n",
    "# plt.plot(Vspan,Pressure)\n",
    "S = Fst[-1]/(Ft[-1] + Fb[-1])\n",
    "Fst[-1]*1000\n",
    "Pressure[-1]\n",
    "Temp[-1]\n",
    "plt.plot(Vspan,Temp)\n",
    "print (min(Temp),max(Temp)) #\n",
    "print (Vspan[argmin(Temp)],Vspan[argmax(Temp)])"
   ]
  }
 ],
 "metadata": {
  "kernelspec": {
   "display_name": "Python 3",
   "language": "python",
   "name": "python3"
  },
  "language_info": {
   "codemirror_mode": {
    "name": "ipython",
    "version": 3
   },
   "file_extension": ".py",
   "mimetype": "text/x-python",
   "name": "python",
   "nbconvert_exporter": "python",
   "pygments_lexer": "ipython3",
   "version": "3.5.1"
  }
 },
 "nbformat": 4,
 "nbformat_minor": 0
}
