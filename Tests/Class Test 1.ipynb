{
 "cells": [
  {
   "cell_type": "code",
   "execution_count": 2,
   "metadata": {
    "collapsed": true
   },
   "outputs": [],
   "source": [
    "from scipy.optimize import fsolve\n",
    "from matplotlib import pyplot as plt\n",
    "import numpy as np\n",
    "from scipy.integrate import odeint\n",
    "%matplotlib inline"
   ]
  },
  {
   "cell_type": "code",
   "execution_count": 25,
   "metadata": {},
   "outputs": [
    {
     "data": {
      "image/png": "[encoded data removed]",
      "text/plain": [
       "<matplotlib.figure.Figure at 0x106e097ffd0>"
      ]
     },
     "metadata": {},
     "output_type": "display_data"
    },
    {
     "name": "stdout",
     "output_type": "stream",
     "text": [
      "T = 192.274393131\n",
      "P = 143.557289796\n",
      "x = 0.9334902634\n"
     ]
    },
    {
     "data": {
      "text/plain": [
       "465.42439313076659"
      ]
     },
     "execution_count": 25,
     "metadata": {},
     "output_type": "execute_result"
    }
   ],
   "source": [
    "d = 25\n",
    "D = d/1000 #m\n",
    "Do = 30/1000 #m\n",
    "A = (np.pi/4)*D**2\n",
    "Ao = (np.pi/4)*Do**2\n",
    "Po = 2\n",
    "ko = 700\n",
    "E = 40000\n",
    "R = 8.314e-5\n",
    "K = 0.02*(Ao*2/A/2.35)**2\n",
    "W = 700/200 #kg\n",
    "Cpa = 500\n",
    "Cpb = 250\n",
    "Hrx = -47500\n",
    "U = 200\n",
    "rho_bed = 800 #kg/m3\n",
    "Tu = 298.15 #K\n",
    "To = 423.15 #K\n",
    "Fto = FAo = 400/3600/170*1000\n",
    "a = 4/(D*rho_bed)\n",
    "z = W/rho_bed/A\n",
    "Wp = W/z\n",
    "Knew = K/Wp*100\n",
    "def PBR(F,z):\n",
    "    FA, FB, P, T = F\n",
    "    Ft = (FA + FB)\n",
    "    Q = Ft*R*T/P \n",
    "    k = ko*np.exp(-E/(8.314*T))\n",
    "    ra = -k*(FA/Q)\n",
    "    dFadz = ra*rho_bed*A\n",
    "    dFbdz = -2*dFadz\n",
    "    dPdz = -K*(Po*Ft*T)/(P*Fto*To)\n",
    "    dTdz = rho_bed*A*(U*a*(Tu - T) + ra*Hrx)/(FAo*Cpa)\n",
    "    return (dFadz,dFbdz,dPdz,dTdz)\n",
    "\n",
    "zspan = np.linspace(0,z,1000)\n",
    "F = odeint(PBR,[FAo, 0, Po, To],zspan)\n",
    "Fa = F[:,0]\n",
    "Fb = F[:,1]\n",
    "P = F[:,2]\n",
    "T = F[:,3]\n",
    "X = (FAo- Fa)/FAo\n",
    "#     plt.plot(zspan,P)\n",
    "#     plt.show()\n",
    "#     plt.plot(zspan,X)\n",
    "#     plt.show()\n",
    "plt.plot(zspan*Wp,T)\n",
    "plt.show()\n",
    "print (\"T = \" + str(max(T) - 273.15))\n",
    "print (\"P = \" + str(P[-1]*100))\n",
    "print (\"x = \" + str(X[-1]))\n",
    "zspan[np.argmax(T)]*Wp\n",
    "T[-1]-273.15\n",
    "Fb[-1]*170*3600/1000/1000*42\n",
    "max(T)"
   ]
  },
  {
   "cell_type": "code",
   "execution_count": 5,
   "metadata": {},
   "outputs": [
    {
     "data": {
      "image/png": "[encoded data removed]",
      "text/plain": [
       "<matplotlib.figure.Figure at 0x1a1779b2198>"
      ]
     },
     "metadata": {},
     "output_type": "display_data"
    },
    {
     "name": "stdout",
     "output_type": "stream",
     "text": [
      "T = 190.582046684\n",
      "P = 67.084936829\n",
      "x = 0.899484305096\n"
     ]
    },
    {
     "data": {
      "text/plain": [
       "30.222672651217589"
      ]
     },
     "execution_count": 5,
     "metadata": {},
     "output_type": "execute_result"
    }
   ],
   "source": [
    "d = 25\n",
    "D = d/1000 #m\n",
    "Do = 30/1000 #m\n",
    "A = (np.pi/4)*D**2\n",
    "Ao = (np.pi/4)*Do**2\n",
    "Po = 2\n",
    "ko = 700\n",
    "E = 40000\n",
    "R = 8.314e-5\n",
    "K = 0.02*(Ao*2.32/A/2)**2\n",
    "W = 700/200 #kg\n",
    "Cpa = 500\n",
    "Cpb = 250\n",
    "Hrx = -47500\n",
    "U = 200\n",
    "rho_bed = 800 #kg/m3\n",
    "Tu = 298.15 #K\n",
    "To = 423.15 #K\n",
    "Fto = FAo = 400/3600/170*1000\n",
    "a = 4/(D*rho_bed)\n",
    "z = W/rho_bed/A\n",
    "Wp = W/z\n",
    "Knew = K/Wp*100\n",
    "def PBR(F,z):\n",
    "    FA, FB, P, T = F\n",
    "    Ft = (FA + FB)\n",
    "    Q = Ft*R*T/P \n",
    "    k = ko*np.exp(-E/(8.314*T))\n",
    "    ra = -k*(FA/Q)\n",
    "    dFadz = ra*rho_bed*A\n",
    "    dFbdz = -2*dFadz\n",
    "    dPdz = -K*(Po*Ft*T)/(P*Fto*To)\n",
    "    dTdz = rho_bed*A*(U*a*(Tu - T) + ra*Hrx)/(FAo*Cpa)\n",
    "    return (dFadz,dFbdz,dPdz,dTdz)\n",
    "\n",
    "zspan = np.linspace(0,z,1000)\n",
    "F = odeint(PBR,[FAo, 0, Po, To],zspan)\n",
    "Fa = F[:,0]\n",
    "Fb = F[:,1]\n",
    "P = F[:,2]\n",
    "T = F[:,3]\n",
    "X = (FAo- Fa)/FAo\n",
    "#     plt.plot(zspan,P)\n",
    "#     plt.show()\n",
    "#     plt.plot(zspan,X)\n",
    "#     plt.show()\n",
    "plt.plot(zspan*Wp,T)\n",
    "plt.show()\n",
    "print (\"T = \" + str(max(T) - 273.15))\n",
    "print (\"P = \" + str(P[-1]*100))\n",
    "print (\"x = \" + str(X[-1]))\n",
    "zspan[np.argmax(T)]*Wp\n",
    "T[-1]-273.15\n",
    "Fb[-1]*170*3600/1000/1000*42\n"
   ]
  }
 ],
 "metadata": {
  "kernelspec": {
   "display_name": "Python 3",
   "language": "python",
   "name": "python3"
  },
  "language_info": {
   "codemirror_mode": {
    "name": "ipython",
    "version": 3
   },
   "file_extension": ".py",
   "mimetype": "text/x-python",
   "name": "python",
   "nbconvert_exporter": "python",
   "pygments_lexer": "ipython3",
   "version": "3.5.3"
  }
 },
 "nbformat": 4,
 "nbformat_minor": 1
}
