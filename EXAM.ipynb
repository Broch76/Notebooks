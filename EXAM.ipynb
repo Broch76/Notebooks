{
 "cells": [
  {
   "cell_type": "code",
   "execution_count": 2,
   "metadata": {
    "collapsed": true
   },
   "outputs": [],
   "source": [
    "from scipy.optimize import fsolve\n",
    "from matplotlib import pyplot as plt\n",
    "from numpy import *\n",
    "from scipy.integrate import odeint\n",
    "%matplotlib inline"
   ]
  },
  {
   "cell_type": "code",
   "execution_count": 7,
   "metadata": {
    "collapsed": false
   },
   "outputs": [
    {
     "name": "stdout",
     "output_type": "stream",
     "text": [
      "1\n"
     ]
    },
    {
     "data": {
      "image/png": "[encoded data removed]",
      "text/plain": [
       "<matplotlib.figure.Figure at 0x16fab89c358>"
      ]
     },
     "metadata": {},
     "output_type": "display_data"
    }
   ],
   "source": [
    "\n",
    "ra = 0.04\n",
    "ki = 2.7e-4\n",
    "klag = 3.2e-3\n",
    "kco = 6.3e-2\n",
    "amo = 6/(1400*5e-3)\n",
    "dpo = 5e-3 \n",
    "dp = linspace(5e-3,0.00000000000001,101)\n",
    "Cax = 40\n",
    "n = 0.26972*(dpo/dp)\n",
    "n = 1\n",
    "kcam = kco*amo*(dpo**1.5/dp**1.5)\n",
    " \n",
    "keff = 1/(1/klag + 1/20*(1/kcam + 1/(n*ki)))\n",
    "\n",
    "plt.plot(dp,keff)\n",
    "print (n)"
   ]
  },
  {
   "cell_type": "code",
   "execution_count": 28,
   "metadata": {
    "collapsed": false
   },
   "outputs": [
    {
     "name": "stderr",
     "output_type": "stream",
     "text": [
      "C:\\Users\\reube\\Anaconda3\\lib\\site-packages\\scipy\\optimize\\minpack.py:161: RuntimeWarning: The iteration is not making good progress, as measured by the \n",
      "  improvement from the last ten iterations.\n",
      "  warnings.warn(msg, RuntimeWarning)\n",
      "C:\\Users\\reube\\Anaconda3\\lib\\site-packages\\ipykernel\\__main__.py:11: RuntimeWarning: overflow encountered in true_divide\n",
      "C:\\Users\\reube\\Anaconda3\\lib\\site-packages\\ipykernel\\__main__.py:9: RuntimeWarning: overflow encountered in exp\n",
      "C:\\Users\\reube\\Anaconda3\\lib\\site-packages\\ipykernel\\__main__.py:11: RuntimeWarning: invalid value encountered in add\n",
      "C:\\Users\\reube\\Anaconda3\\lib\\site-packages\\ipykernel\\__main__.py:10: RuntimeWarning: overflow encountered in exp\n"
     ]
    },
    {
     "data": {
      "text/plain": [
       "array([ 0.5009587])"
      ]
     },
     "execution_count": 28,
     "metadata": {},
     "output_type": "execute_result"
    }
   ],
   "source": [
    "\n",
    "Qspan = linspace(0.1,100,1001)\n",
    "Cao  = 0.1\n",
    "V = 100\n",
    "To = 315\n",
    "KC = 2000\n",
    "def func(x,Q):\n",
    "    T = To  + 35000/(80)*x\n",
    "    k = 19300*exp(-54000/(8.314*T))\n",
    "    K = KC*exp(35000/8.314*(1/T - 1/298))\n",
    "    eqn = Cao*Q*x - (k*Cao*(1-x) + k/K*Cao*x)*V\n",
    "    return eqn\n",
    "X = []\n",
    "for Q in Qspan:\n",
    "    ans = fsolve(func,0.5, args = (Q))\n",
    "    X.append(ans)\n",
    "t = argmax(X)\n",
    "Qspan[t+10]\n"
   ]
  },
  {
   "cell_type": "code",
   "execution_count": 35,
   "metadata": {
    "collapsed": false
   },
   "outputs": [
    {
     "name": "stderr",
     "output_type": "stream",
     "text": [
      "C:\\Users\\reube\\Anaconda3\\lib\\site-packages\\ipykernel\\__main__.py:10: RuntimeWarning: overflow encountered in exp\n",
      "C:\\Users\\reube\\Anaconda3\\lib\\site-packages\\scipy\\optimize\\minpack.py:161: RuntimeWarning: The iteration is not making good progress, as measured by the \n",
      "  improvement from the last ten iterations.\n",
      "  warnings.warn(msg, RuntimeWarning)\n",
      "C:\\Users\\reube\\Anaconda3\\lib\\site-packages\\ipykernel\\__main__.py:9: RuntimeWarning: overflow encountered in exp\n",
      "C:\\Users\\reube\\Anaconda3\\lib\\site-packages\\ipykernel\\__main__.py:11: RuntimeWarning: invalid value encountered in add\n",
      "C:\\Users\\reube\\Anaconda3\\lib\\site-packages\\ipykernel\\__main__.py:11: RuntimeWarning: overflow encountered in true_divide\n"
     ]
    },
    {
     "data": {
      "text/plain": [
       "608.4706249999999"
      ]
     },
     "execution_count": 35,
     "metadata": {},
     "output_type": "execute_result"
    }
   ],
   "source": [
    "Tspan = linspace(298,700,1001)\n",
    "Cao  = 0.1\n",
    "V = 100\n",
    "To = 315\n",
    "KC = 2000\n",
    "Q = 52.048\n",
    "def func(x,To):\n",
    "    T = To  + 35000/(80)*(x-0.67079)\n",
    "    k = 19300*exp(-54000/(8.314*T))\n",
    "    K = KC*exp(35000/8.314*(1/T - 1/298))\n",
    "    eqn = Cao*Q*x - (k*Cao*(1-(x-0.67079)) + k/K*Cao*(x-0.67079))*V\n",
    "    return eqn\n",
    "X = []\n",
    "for T in Tspan:\n",
    "    ans = fsolve(func,0.5, args = (T))\n",
    "    X.append(ans)\n",
    "t = argmax(X)\n",
    "Tspan[t]\n",
    "T = To  + 35000/(80)*(0.67079)\n",
    "T"
   ]
  }
 ],
 "metadata": {
  "kernelspec": {
   "display_name": "Python 3",
   "language": "python",
   "name": "python3"
  },
  "language_info": {
   "codemirror_mode": {
    "name": "ipython",
    "version": 3
   },
   "file_extension": ".py",
   "mimetype": "text/x-python",
   "name": "python",
   "nbconvert_exporter": "python",
   "pygments_lexer": "ipython3",
   "version": "3.5.1"
  }
 },
 "nbformat": 4,
 "nbformat_minor": 0
}
