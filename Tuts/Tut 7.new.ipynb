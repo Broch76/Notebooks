{
 "cells": [
  {
   "cell_type": "code",
   "execution_count": 1,
   "metadata": {
    "collapsed": true
   },
   "outputs": [],
   "source": [
    "from scipy.optimize import fsolve\n",
    "from matplotlib import pyplot as plt\n",
    "import numpy as np\n",
    "from scipy.integrate import odeint\n",
    "%matplotlib inline"
   ]
  },
  {
   "cell_type": "code",
   "execution_count": 3,
   "metadata": {},
   "outputs": [
    {
     "data": {
      "text/plain": [
       "0.89988789987097673"
      ]
     },
     "execution_count": 3,
     "metadata": {},
     "output_type": "execute_result"
    },
    {
     "data": {
      "image/png": "[encoded data removed]",
      "text/plain": [
       "<matplotlib.figure.Figure at 0x15f240a89b0>"
      ]
     },
     "metadata": {},
     "output_type": "display_data"
    }
   ],
   "source": [
    "ko = 8.8\n",
    "E = 35000\n",
    "Hrxn = 50000\n",
    "Cpa = 250\n",
    "To = 300\n",
    "Cao = 2000\n",
    "dp = 2.5e-3\n",
    "pbed = 1200\n",
    "pc = 2000\n",
    "De = 1.8e-9\n",
    "W = 900\n",
    "Q = 60/3600\n",
    "Fao = Cao*Q\n",
    "def dndt(p,W):\n",
    "    x,T = p\n",
    "    ki = ko*np.exp(-E/(8.314*T))\n",
    "    O = ((ki*pc*(dp/2)**2)/De)**0.5\n",
    "    n = 3/(O**2)*(O/np.tanh(O) - 1)\n",
    "    dxdw = n*ki*(1-x)/Q\n",
    "    ra = -n*ki*Fao*(1-x)/Q\n",
    "    dTdw = ra*Hrxn/(Fao*Cpa)\n",
    "    return dxdw,dTdw\n",
    "    \n",
    "wspan = np.linspace(0,W*2,1001)\n",
    "ans = odeint(dndt,[0,To],wspan)\n",
    "x = ans[:,0]\n",
    "T = ans[:,1]\n",
    "ki = ko*np.exp(-E/(8.314*T))\n",
    "O = ((ki*pc*(dp/2)**2)/De)**0.5\n",
    "n = 3/(O**2)*(O/np.tanh(O) - 1)\n",
    "ra = -n*ki*Fao*(1-x)/Q\n",
    "plt.plot(x,1/-ra)\n",
    "n[-1]\n"
   ]
  },
  {
   "cell_type": "code",
   "execution_count": 31,
   "metadata": {},
   "outputs": [
    {
     "name": "stdout",
     "output_type": "stream",
     "text": [
      "0.777666414833 455.533282967\n"
     ]
    },
    {
     "data": {
      "text/plain": [
       "0.07592803815461463"
      ]
     },
     "execution_count": 31,
     "metadata": {},
     "output_type": "execute_result"
    }
   ],
   "source": [
    "'''e'''\n",
    "\n",
    "def func(p):\n",
    "    x,T = p\n",
    "    ki = ko*np.exp(-E/(8.314*T))\n",
    "    O = ((ki*pc*(dp/2)**2)/De)**0.5\n",
    "    n = 3/(O**2)*(O/np.tanh(O) - 1)\n",
    "    eqn1 = Fao*x - n*ki*Fao*(1-x)*W/Q\n",
    "    eqn2 = T - To + Hrxn*x/Cpa\n",
    "    return eqn1, eqn2\n",
    "\n",
    "x,T = fsolve(func,[0.5,400])\n",
    "print (x,T)\n",
    "ki = ko*np.exp(-E/(8.314*T))\n",
    "O = ((ki*pc*(dp/2)**2)/De)**0.5\n",
    "n = 3/(O**2)*(O/np.tanh(O) - 1)\n",
    "n"
   ]
  },
  {
   "cell_type": "code",
   "execution_count": 18,
   "metadata": {},
   "outputs": [
    {
     "data": {
      "image/png": "[encoded data removed]",
      "text/plain": [
       "<matplotlib.figure.Figure at 0x2b74fe372e8>"
      ]
     },
     "metadata": {},
     "output_type": "display_data"
    }
   ],
   "source": [
    "\"\"\"4 c\"\"\"\n",
    "To = 343.15\n",
    "Hrxn = -25000\n",
    "Q = 200/60\n",
    "FAo = 50\n",
    "CAo = 15\n",
    "ko = 45292.29237\n",
    "# ko = 10000\n",
    "E = 50000\n",
    "# E = 35000\n",
    "CPa = 100\n",
    "R = 8.314\n",
    "# Ccat = 0.25\n",
    "Ccat = 0.12226\n",
    "CA = np.linspace(0.99999999,0.0000000001,1001)*CAo\n",
    "X = (CAo - CA)/CAo\n",
    "Theat = To - Hrxn*FAo*X/(FAo*CPa)\n",
    "V = 500\n",
    "def mole(T,X):\n",
    "    FA = FAo*(1-X)\n",
    "    ln = np.log((FAo - FA)/(ko*Ccat*(FA/Q)*V))\n",
    "    eqn1 = T + E/(R*ln)\n",
    "    return (eqn1)\n",
    "Tmole = []\n",
    "T = 500\n",
    "for x in X:\n",
    "    T = fsolve(mole,[T],args = (x))\n",
    "    Tmole.append(T[0])\n",
    "\n",
    "plt.plot(Tmole,X)\n",
    "plt.plot(Theat,X)\n",
    "plt.xlim([200,800])\n",
    "plt.show()"
   ]
  },
  {
   "cell_type": "code",
   "execution_count": 38,
   "metadata": {},
   "outputs": [
    {
     "name": "stdout",
     "output_type": "stream",
     "text": [
      "0.0600237938805\n",
      "0.103575952387\n",
      "0.343429883424\n"
     ]
    },
    {
     "data": {
      "text/plain": [
       "<matplotlib.legend.Legend at 0x2b7510dbd68>"
      ]
     },
     "execution_count": 38,
     "metadata": {},
     "output_type": "execute_result"
    },
    {
     "data": {
      "image/png": "[encoded data removed]",
      "text/plain": [
       "<matplotlib.figure.Figure at 0x2b74fd57fd0>"
      ]
     },
     "metadata": {},
     "output_type": "display_data"
    }
   ],
   "source": [
    "\"\"\"6\"\"\"\n",
    "\n",
    "def func(p,arg):\n",
    "    kc,Cas = p\n",
    "    x,d = arg\n",
    "    eqn1 = 10*x - 2.4e-5*(6/(1200*d))*(Cas**2)*5e-3\n",
    "    eqn2 = 10*x - kc*(6/(1200*d))*(6000*(1-x) - Cas)*5e-3\n",
    "    return eqn1,eqn2\n",
    "KC = []\n",
    "\n",
    "kc,Cas = fsolve(func,[1e-3,1000],args = ([0.132,3e-3]))\n",
    "KC.append(kc)\n",
    "print (kc)\n",
    "kc,Cas = fsolve(func,[1e-3,1000],args = ([0.362,0.99e-3]))\n",
    "print (kc)\n",
    "KC.append(kc)\n",
    "kc,Cas = fsolve(func,[1e-3,1000],args = ([0.793,0.1e-3]))\n",
    "print (kc)\n",
    "KC.append(kc)\n",
    "dp = np.array([3e-3,0.99e-3,0.1e-3])\n",
    "plt.plot(dp,KC,label = 'data')\n",
    "n = 0.511\n",
    "plt.plot(dp,0.0600237938805*3e-3**n/dp**n,label = 'fit' )\n",
    "plt.legend()"
   ]
  }
 ],
 "metadata": {
  "kernelspec": {
   "display_name": "Python 3",
   "language": "python",
   "name": "python3"
  },
  "language_info": {
   "codemirror_mode": {
    "name": "ipython",
    "version": 3
   },
   "file_extension": ".py",
   "mimetype": "text/x-python",
   "name": "python",
   "nbconvert_exporter": "python",
   "pygments_lexer": "ipython3",
   "version": "3.5.3"
  }
 },
 "nbformat": 4,
 "nbformat_minor": 1
}
