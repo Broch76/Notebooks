{
 "cells": [
  {
   "cell_type": "markdown",
   "metadata": {},
   "source": [
    "Tut 1.4: Reaction $$2A\\ \\rightarrow B$$.  Pure A fed, I.e. expansion factor = -0.5 \n",
    "\n",
    "Inlet pressure = 20 atm, outlet = 5 atm, W = 1 kg\n",
    "\n",
    "Conversion of A = 30%\n"
   ]
  },
  {
   "cell_type": "markdown",
   "metadata": {},
   "source": [
    "Use PBR information to determine rate constant and Ergun constant "
   ]
  },
  {
   "cell_type": "markdown",
   "metadata": {},
   "source": [
    "Since $$F_{Ao} $$  and $$Q_{o}$$  not given create one grouped constant to be used in rate expression:  $$k = k(\\frac{F_{Ao}}{Q_{O}})^{2}$$.  It should also work if you just choose a value of 1 for both variables"
   ]
  },
  {
   "cell_type": "code",
   "execution_count": 1,
   "metadata": {
    "collapsed": true
   },
   "outputs": [],
   "source": [
    "import numpy as np\n",
    "import scipy as sp\n",
    "import scipy.optimize as spop\n",
    "import scipy.integrate as sci"
   ]
  },
  {
   "cell_type": "markdown",
   "metadata": {},
   "source": [
    "Define parameters:"
   ]
  },
  {
   "cell_type": "code",
   "execution_count": 2,
   "metadata": {
    "collapsed": true
   },
   "outputs": [],
   "source": [
    "Po = 20; #atm\n",
    "ex_factor = -0.5;  #2A - B\n",
    "Pout = 5; #atm\n",
    "xfin = 0.3; #atm\n",
    "W = 1; # kg\n",
    "Wspan = np.linspace(0,1,20)\n",
    "inlet = [0,20]; #inlet conversion and pressure\n",
    "guess = [1, 4.4] #First guess values for k and Ergun constant (K) in atm/kg. Use DelP/DelW = -K(1+eps.xfin) to get value for K"
   ]
  },
  {
   "cell_type": "markdown",
   "metadata": {},
   "source": [
    "Get ballpark guess value for Ergun constant:"
   ]
  },
  {
   "cell_type": "code",
   "execution_count": 3,
   "metadata": {
    "collapsed": false
   },
   "outputs": [],
   "source": [
    "delP = Pout - inlet[1]\n",
    "delW = 1\n",
    "K = -(delP)/delW/(1+ex_factor*xfin)/(Po/Pout) #If the outlet slope defines slope, you can also use x = 0 and Po/Pout = 1 for guess\n",
    "k = 1;\n",
    "guess = [k,K]"
   ]
  },
  {
   "cell_type": "markdown",
   "metadata": {},
   "source": [
    "Define a function that takes in values for k and K, use them to integrate over W span (1 kg) and compare x model to the actual x at 1 kg as well as the Pout model versus the actual Pout at 1 kg.  Need two equations to solve for two unknowns.  Will define errors between actual and model outcomes for both x and P"
   ]
  },
  {
   "cell_type": "code",
   "execution_count": 10,
   "metadata": {
    "collapsed": true
   },
   "outputs": [],
   "source": [
    "def eqs(constants):\n",
    "    K1, K2 = constants\n",
    "    \n",
    "    def DEs(var,W):\n",
    "        x, P = var\n",
    "        dxdW = K1*(1-x)**2/(1+ex_factor*x)**2*(P/Po)**2\n",
    "        dPdW = -K2*(1+ex_factor*x)*(Po/P)\n",
    "        return [dxdW, dPdW]\n",
    "    xP_model = sci.odeint(DEs, inlet, Wspan)\n",
    "    outlet = xP_model[-1]\n",
    "    Error1 = (outlet[0] - xfin)**2*100\n",
    "    Error2 = (outlet[1] - Pout)**2\n",
    "    return [Error1, Error2]"
   ]
  },
  {
   "cell_type": "code",
   "execution_count": 11,
   "metadata": {
    "collapsed": false
   },
   "outputs": [
    {
     "name": "stdout",
     "output_type": "stream",
     "text": [
      "(array([  0.69492223,  10.43425483]), {'fvec': array([  3.91889581e-14,   1.65826055e-14]), 'r': array([ -4.01825955e-06,  -1.67377943e-06,  -1.94877134e-06]), 'qtf': array([ -1.61646044e-13,   5.27118760e-14]), 'nfev': 62, 'fjac': array([[-0.77147123, -0.63626421],\n",
      "       [ 0.63626421, -0.77147123]])}, 1, 'The solution converged.')\n"
     ]
    }
   ],
   "source": [
    "Ks = spop.fsolve(eqs,guess,full_output =1)\n",
    "print(Ks)  # use full-output to make sure that solution was reached\n"
   ]
  },
  {
   "cell_type": "code",
   "execution_count": 16,
   "metadata": {
    "collapsed": false
   },
   "outputs": [
    {
     "name": "stdout",
     "output_type": "stream",
     "text": [
      "Values of the constants are: k = 0.694922229713 and K  = 10.4342548318 atm/kg\n"
     ]
    }
   ],
   "source": [
    "constants = Ks[0]\n",
    "print('Values of the constants are: k = ' + str(constants[0]) + ' and K  = ' + str(constants[1]) + ' atm/kg')"
   ]
  },
  {
   "cell_type": "code",
   "execution_count": null,
   "metadata": {
    "collapsed": true
   },
   "outputs": [],
   "source": []
  }
 ],
 "metadata": {
  "kernelspec": {
   "display_name": "Python 3",
   "language": "python",
   "name": "python3"
  },
  "language_info": {
   "codemirror_mode": {
    "name": "ipython",
    "version": 3
   },
   "file_extension": ".py",
   "mimetype": "text/x-python",
   "name": "python",
   "nbconvert_exporter": "python",
   "pygments_lexer": "ipython3",
   "version": "3.5.1"
  }
 },
 "nbformat": 4,
 "nbformat_minor": 0
}
