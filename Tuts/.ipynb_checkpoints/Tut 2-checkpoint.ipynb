{
 "cells": [
  {
   "cell_type": "code",
   "execution_count": 8,
   "metadata": {
    "collapsed": true
   },
   "outputs": [],
   "source": [
    "from scipy.optimize import fsolve\n",
    "from matplotlib import pyplot as plt\n",
    "import numpy as np\n",
    "from scipy.integrate import odeint\n",
    "%matplotlib inline"
   ]
  },
  {
   "cell_type": "code",
   "execution_count": 31,
   "metadata": {
    "collapsed": false
   },
   "outputs": [
    {
     "data": {
      "image/png": "[encoded data removed]",
      "text/plain": [
       "<matplotlib.figure.Figure at 0x219c7536d30>"
      ]
     },
     "metadata": {},
     "output_type": "display_data"
    },
    {
     "name": "stdout",
     "output_type": "stream",
     "text": [
      "CSTR volume = 75462.4516563L\n",
      "PFR volume = 56188.4327758L\n"
     ]
    }
   ],
   "source": [
    "\"\"\"1 a)\"\"\"\n",
    "CAo = 0.1\n",
    "CA = linspace(CAo,0.00001,1001)\n",
    "CB = CA\n",
    "Q = 2\n",
    "k = 0.01\n",
    "ra = k*CA*CB\n",
    "x = (CAo - CA)/CAo\n",
    "plt.ylim([0,1000000])\n",
    "plt.plot(x,1/ra)\n",
    "plt.show()\n",
    "CA[850]\n",
    "V_c = Q*(CAo - CA[850])*(1/ra[850])\n",
    "print ('CSTR volume = ' +str(V_c) + 'L')\n",
    "\n",
    "V_p = np.trapz(1/ra[:850],x[:850])\n",
    "print ('PFR volume = ' +str(V_p) + 'L')"
   ]
  },
  {
   "cell_type": "code",
   "execution_count": 87,
   "metadata": {
    "collapsed": false
   },
   "outputs": [
    {
     "data": {
      "image/png": "[encoded data removed]",
      "text/plain": [
       "<matplotlib.figure.Figure at 0x219c8c2a278>"
      ]
     },
     "metadata": {},
     "output_type": "display_data"
    }
   ],
   "source": [
    "\"\"\"1 a)\"\"\"\n",
    "\"\"\"CSTR\"\"\"\n",
    "CAo = 0.1\n",
    "CBo = 0.1\n",
    "Q = 2\n",
    "FAo = CAo*Q\n",
    "FBo = CBo*Q\n",
    "X = 0.85\n",
    "FA = FB = FAo*(1-X)\n",
    "ko = 192865.363 #l/mol.s\n",
    "To = 300 #K\n",
    "Hrxn = -6000 #cal/mol\n",
    "CPa = CPb = 15 #cal/mol.K\n",
    "E = 10000*4.184\n",
    "R = 8.314\n",
    "T = 470\n",
    "k = ko*exp(-E/(R*T))\n",
    "def CSTR(V):\n",
    "    eqn1 = FAo - FA - k*(FA/Q)*(FB/Q)*V\n",
    "    return (eqn1)\n",
    "\n",
    "V_cstr = fsolve(CSTR,[150])\n",
    "\n",
    "\n",
    "\"\"\"PFR\"\"\"\n",
    "To = 300\n",
    "Qo = 2\n",
    "k = ko*exp(-E/(R*To))\n",
    "def PFR(Z,V):\n",
    "    FA,FB,T = Z\n",
    "\n",
    "    dFadV = -ko*exp(-E/(R*T))*(FA/Q)*(FB/Q)\n",
    "    dFbdV = -ko*exp(-E/(R*T))*(FA/Q)*(FB/Q)\n",
    "    dTdV = -dFadV*Hrxn/(FAo*CPa + FBo*CPb)\n",
    "    return (dFadV,dFbdV,dTdV)\n",
    "Vspan =linspace(0,3500000,3001)\n",
    "ANS = odeint(PFR,[FAo,FBo,To],Vspan)\n",
    "FAi = ANS[:,0]\n",
    "X_pfr = (FAo - FAi)/FAo\n",
    "plt.plot(Vspan,X_pfr)\n",
    "V_pfr  = np.interp(0.85,X_pfr,Vspan)"
   ]
  },
  {
   "cell_type": "code",
   "execution_count": 28,
   "metadata": {
    "collapsed": false
   },
   "outputs": [],
   "source": [
    "\"\"\"1 b)\"\"\"\n",
    "CAo = 0.1\n",
    "CA = linspace(CAo,0.00001,1001)\n",
    "CB = CA\n",
    "x = (CAo - CA)/CAo\n",
    "Hrxn = -6000 #cal/mol\n",
    "CPa = CPb = 15 #cal/mol.K\n",
    "Tout = 550 #K\n",
    "# def temp(T):\n",
    "    \n",
    "Tin = Tout + Hrxn*CAo*Q*x/(CAo*Q*CPa + CBo*Q*CPb)"
   ]
  }
 ],
 "metadata": {
  "kernelspec": {
   "display_name": "Python 3",
   "language": "python",
   "name": "python3"
  },
  "language_info": {
   "codemirror_mode": {
    "name": "ipython",
    "version": 3
   },
   "file_extension": ".py",
   "mimetype": "text/x-python",
   "name": "python",
   "nbconvert_exporter": "python",
   "pygments_lexer": "ipython3",
   "version": "3.5.1"
  }
 },
 "nbformat": 4,
 "nbformat_minor": 0
}
