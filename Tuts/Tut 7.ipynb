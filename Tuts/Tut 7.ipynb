{
 "cells": [
  {
   "cell_type": "code",
   "execution_count": 2,
   "metadata": {
    "collapsed": true
   },
   "outputs": [],
   "source": [
    "from scipy.optimize import fsolve\n",
    "from matplotlib import pyplot as plt\n",
    "import numpy as np\n",
    "from scipy.integrate import odeint\n",
    "%matplotlib inline"
   ]
  },
  {
   "cell_type": "code",
   "execution_count": 48,
   "metadata": {
    "collapsed": false
   },
   "outputs": [
    {
     "name": "stdout",
     "output_type": "stream",
     "text": [
      "[ -2.35627606e-06   2.21265911e-02   2.07436792e+04]\n",
      "(-25.70104315469281, -1.2764312176671844e-15, 25.701043152690637)\n"
     ]
    }
   ],
   "source": [
    "\"\"\"1 e\"\"\"\n",
    "\n",
    "pc = 2500\n",
    "Fao = 1000\n",
    "R = 3e-3\n",
    "De= 1.5e-8\n",
    "ki = 3.93863e-7\n",
    "am = 0.4\n",
    "\n",
    "\n",
    "def func(X):\n",
    "    kc,n,Cas = X\n",
    "    O = R*((ki*2500*Cas)/De)**0.5\n",
    "    eqn1 = ((2/3)**(0.5))*3/O - Fao*0.15/((Cas**2)*40*ki)\n",
    "    eqn2 = 5*0.15/40/(am*(850 - Cas)) - kc\n",
    "    eqn3 = n - ((2/3)**(0.5))*3/O\n",
    " \n",
    "    return eqn1,eqn2,eqn3\n",
    "\n",
    "Ki = fsolve(func,[1.93e-4,25.8303789,.12435233])\n",
    "   \n",
    "print ((Ki))\n",
    "print (func([1.93e-4,25.8303789,607.12435233]))"
   ]
  },
  {
   "cell_type": "code",
   "execution_count": 49,
   "metadata": {
    "collapsed": false
   },
   "outputs": [
    {
     "name": "stdout",
     "output_type": "stream",
     "text": [
      "[ 606.54885805]\n"
     ]
    }
   ],
   "source": [
    "\n",
    "pc = 2500\n",
    "Fao = 1000\n",
    "R = 3e-3\n",
    "De= 1.5e-8\n",
    "ki = 3.93863e-7\n",
    "am = 0.4\n",
    "\n",
    "\n",
    "def func(Cas):\n",
    "    eqn1 = 5*0.15/40 -((2/3)**(0.5))*3*De**0.5/(R*(ki*pc*Cas)**0.5)*ki*Cas**2\n",
    "    return eqn1\n",
    "\n",
    "Ki = fsolve(func,[600.12435233])\n",
    "   \n",
    "print ((Ki))"
   ]
  },
  {
   "cell_type": "code",
   "execution_count": 111,
   "metadata": {
    "collapsed": false
   },
   "outputs": [
    {
     "name": "stdout",
     "output_type": "stream",
     "text": [
      "0.25 67.0\n"
     ]
    },
    {
     "name": "stderr",
     "output_type": "stream",
     "text": [
      "C:\\Users\\reube\\Anaconda3\\lib\\site-packages\\ipykernel\\__main__.py:12: RuntimeWarning: invalid value encountered in log\n",
      "C:\\Users\\reube\\Anaconda3\\lib\\site-packages\\scipy\\optimize\\minpack.py:161: RuntimeWarning: The iteration is not making good progress, as measured by the \n",
      "  improvement from the last ten iterations.\n",
      "  warnings.warn(msg, RuntimeWarning)\n"
     ]
    }
   ],
   "source": [
    "\n",
    "Q = 1.4/1000/60\n",
    "Hrxn = -50000\n",
    "Cpa = 250\n",
    "pc = 1800\n",
    "Fao = 2000*Q\n",
    "Cao = 2000\n",
    "ki = 0.1**2*1e-8/1800/((0.5e-3)**2)\n",
    "T = -45000/8.314/np.log(ki/2)\n",
    "def bala(para):\n",
    "    x,W = para\n",
    "    eqn1 = np.log(1-x) +  ki*W/Q\n",
    "    eqn2 = 536237375 + (1-x)*Hrxn*W/(Q*Cpa)\n",
    "    return eqn1,eqn2\n",
    "\n",
    "x,W = fsolve(bala,[0.25,67])\n",
    "print (x,W)"
   ]
  },
  {
   "cell_type": "code",
   "execution_count": 7,
   "metadata": {
    "collapsed": false
   },
   "outputs": [
    {
     "data": {
      "image/png": "[encoded data removed]",
      "text/plain": [
       "<matplotlib.figure.Figure at 0x25109990320>"
      ]
     },
     "metadata": {},
     "output_type": "display_data"
    },
    {
     "data": {
      "text/plain": [
       "0.18949545193793976"
      ]
     },
     "execution_count": 7,
     "metadata": {},
     "output_type": "execute_result"
    },
    {
     "data": {
      "image/png": "[encoded data removed]",
      "text/plain": [
       "<matplotlib.figure.Figure at 0x2510abdf2e8>"
      ]
     },
     "metadata": {},
     "output_type": "display_data"
    }
   ],
   "source": [
    "Q = 1.4/1000/60\n",
    "Hrxn = -50000\n",
    "Cpa = 250\n",
    "pc = 1800\n",
    "Fao = 2000*Q\n",
    "\n",
    "def dndt(para,w):\n",
    "    Fa,T = para\n",
    "    ki = 2*np.exp(-45000/(8.314*T))\n",
    "    dFadw = -ki*Fa/Q\n",
    "    dTdW = (-ki*Fa/Q)*Hrxn/(Fao*Cpa)\n",
    "    return dFadw,dTdW\n",
    "\n",
    "wspan = np.linspace(0,67,101)\n",
    "Ans = odeint(dndt,[Fao,300],wspan)\n",
    "plt.plot(wspan,Ans)\n",
    "plt.show()\n",
    "plt.plot(wspan,(Fao - Ans[:,0])/Fao)\n",
    "Ans[:,1]\n",
    "x = (Fao - Ans[:,0])/Fao\n",
    "x[-1]"
   ]
  },
  {
   "cell_type": "code",
   "execution_count": 8,
   "metadata": {
    "collapsed": false
   },
   "outputs": [
    {
     "data": {
      "image/png": "[encoded data removed]",
      "text/plain": [
       "<matplotlib.figure.Figure at 0x20fbefe6940>"
      ]
     },
     "metadata": {},
     "output_type": "display_data"
    },
    {
     "data": {
      "image/png": "[encoded data removed]",
      "text/plain": [
       "<matplotlib.figure.Figure at 0x20fbefa8c18>"
      ]
     },
     "metadata": {},
     "output_type": "display_data"
    },
    {
     "name": "stdout",
     "output_type": "stream",
     "text": [
      "0.0457260127681 331.340149478\n"
     ]
    },
    {
     "data": {
      "image/png": "[encoded data removed]",
      "text/plain": [
       "<matplotlib.figure.Figure at 0x20fbefb7898>"
      ]
     },
     "metadata": {},
     "output_type": "display_data"
    }
   ],
   "source": [
    "Q = 1.4/1000/60\n",
    "Hrxn = -50000\n",
    "Cpa = 250\n",
    "pc = 1800\n",
    "Fao = 2000*Q\n",
    "pbed = 800\n",
    "Ua = 9.1e3\n",
    "Tu = 330\n",
    "def dndt(para,w):\n",
    "    x,T = para\n",
    "    ki = 2*np.exp(-45000/(8.314*T))\n",
    "    O = (ki*pc*((0.5e-3)**2)/1e-8)**0.5\n",
    "    n = (3/O**2)*(O/np.tanh(O) - 1)\n",
    "    dxdw = n*ki*(1-x)/Q\n",
    "    dTdW = (Ua/pbed*(Tu - T) - (n*ki*Fao*(1-x)/Q)*Hrxn)/(Fao*Cpa)\n",
    "    return dxdw,dTdW\n",
    "\n",
    "wspan = np.linspace(0,200,101)\n",
    "Ans = odeint(dndt,[0,300],wspan)\n",
    "X = Ans[:,0]\n",
    "T = Ans[:,1]\n",
    "plt.plot(wspan,T)\n",
    "plt.show()\n",
    "plt.plot(wspan,X)\n",
    "ki = 2*np.exp(-45000/(8.314*T))\n",
    "O = (ki*pc*(0.5e-3)**2/1e-8)**0.5\n",
    "n = 3/O**2*(O/np.tanh(O) - 1)\n",
    "plt.show()\n",
    "plt.plot(wspan,n)\n",
    "max = np.argmax(T)\n",
    "print (X[max],T[max])\n"
   ]
  },
  {
   "cell_type": "code",
   "execution_count": 7,
   "metadata": {
    "collapsed": false
   },
   "outputs": [
    {
     "data": {
      "image/png": "[encoded data removed]",
      "text/plain": [
       "<matplotlib.figure.Figure at 0x22ced4c57f0>"
      ]
     },
     "metadata": {},
     "output_type": "display_data"
    }
   ],
   "source": [
    "\"\"\"5 d\"\"\"\n",
    "pc = 1200\n",
    "W = 5E-3\n",
    "D = np.array([3000,990,520,300,140,80])\n",
    "X =np.array([0.529,0.605,0.627,0.637,0.645,0.648])\n",
    "\n",
    "# plt.plot(D,X)\n",
    "am = 6/(D*pc)\n",
    "Ccat = 1\n",
    "FAo = 10\n",
    "ki = 2.9054e-4\n",
    "O = (ki*pc*(D/2)**2/7E-8)\n",
    "n = 3/(O**2)*(O/np.tanh(O) - 1)\n",
    "CAo = 6/1e-3\n",
    "CAb = CAo*(1-X)\n",
    "CAs = (FAo*X/(ki*n*W))**0.5\n",
    "\n",
    "ra = -FAo*X/W\n",
    "kc = ra/((CAb - CAs))\n",
    "KC = kc[5]*D[5]/D\n",
    "plt.plot(D,KC)\n",
    "plt.plot(D,kc)\n",
    "plt.show()"
   ]
  },
  {
   "cell_type": "code",
   "execution_count": null,
   "metadata": {
    "collapsed": true
   },
   "outputs": [],
   "source": [
    "\"\"\"5 d\"\"\"\n",
    "pc = 1200\n",
    "D = np.array([3000,990,520,300,140,80])\n",
    "X =np.array([0.529,0.605,0.627,0.637,0.645,0.648])\n",
    "\n",
    "# plt.plot(D,X)\n",
    "am = 6/(D*pc)\n",
    "Ccat = 1\n",
    "FAo = 10\n",
    "ki = 2.9054e-4\n",
    "O = (ki*pc*(D/2)**2/7E-8)\n",
    "n = 3/(O**2)*(O/np.tanh(O) - 1)\n",
    "CAo = 6/1e-3\n",
    "CAb = CAo*(1-X)\n",
    "CAs = (FAo*X/(n*ki*W))**0.5\n",
    "W = 5E-3\n",
    "ra = -FAo*X/W\n",
    "kc = ra/((CAb - CAs))\n",
    "KC = kc[5]*D[5]/D\n",
    "plt.plot(D,KC)\n",
    "plt.plot(D,kc)\n",
    "plt.show()"
   ]
  }
 ],
 "metadata": {
  "kernelspec": {
   "display_name": "Python 3",
   "language": "python",
   "name": "python3"
  },
  "language_info": {
   "codemirror_mode": {
    "name": "ipython",
    "version": 3
   },
   "file_extension": ".py",
   "mimetype": "text/x-python",
   "name": "python",
   "nbconvert_exporter": "python",
   "pygments_lexer": "ipython3",
   "version": "3.5.1"
  }
 },
 "nbformat": 4,
 "nbformat_minor": 0
}
