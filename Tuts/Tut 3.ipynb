{
 "cells": [
  {
   "cell_type": "code",
   "execution_count": 1,
   "metadata": {
    "collapsed": true
   },
   "outputs": [],
   "source": [
    "from scipy.optimize import fsolve\n",
    "from matplotlib import pyplot as plt\n",
    "from numpy import *\n",
    "from scipy.integrate import odeint\n",
    "%matplotlib inline"
   ]
  },
  {
   "cell_type": "code",
   "execution_count": 2,
   "metadata": {
    "collapsed": false
   },
   "outputs": [],
   "source": [
    "\"\"\"3.2 c)\"\"\"\n",
    "\n",
    "def K(x):\n",
    "    Kc, Keq = x\n",
    "    eqn1 = -0.318 + 0.077**2*Kc - Kc/Keq*0.023\n",
    "    eqn2 = -0.132 + 0.062**2*Kc - Kc/Keq*0.038\n",
    "    return (eqn1,eqn2)\n",
    "\n",
    "ANS = fsolve(K,[10,1])\n",
    "Kc1 = ANS[1]"
   ]
  },
  {
   "cell_type": "code",
   "execution_count": 3,
   "metadata": {
    "collapsed": true
   },
   "outputs": [],
   "source": [
    "\"\"\"3.2 d)\"\"\"\n",
    "\n",
    "def K(x):\n",
    "    Kc, Keq = x\n",
    "    eqn1 = -0.0454 + 0.04666666667**2*Kc - Kc/Keq*0.053333333\n",
    "    eqn2 = -0.132 + 0.068**2*Kc - Kc/Keq*0.032\n",
    "    return (eqn1,eqn2)\n",
    "\n",
    "ANS2 = fsolve(K,[10,1])\n",
    "Kc2 = ANS2[1]\n",
    "\n",
    "def H(H):\n",
    "    eqn = log(Kc1/Kc2) + H/8.314*(1/600 - 1/550)\n",
    "    return eqn\n",
    "Hrxn = fsolve(H,10000)"
   ]
  },
  {
   "cell_type": "code",
   "execution_count": 4,
   "metadata": {
    "collapsed": false
   },
   "outputs": [
    {
     "name": "stdout",
     "output_type": "stream",
     "text": [
      "[   0.99712755  347.13535938]\n",
      "[  17.38905984  489.12396818]\n"
     ]
    }
   ],
   "source": [
    "\"\"\"3.2 e)\"\"\"\n",
    "\n",
    "\n",
    "def x(z):\n",
    "    x,Kc1 = z\n",
    "    eqn1 = log(Kc1/20.57)-70000/8.314*(1/(300 + 200*x) - 1/600)\n",
    "    eqn2 = x - Kc1/(1 + Kc1)\n",
    "\n",
    "    return [eqn1,eqn2]\n",
    "ANS = fsolve(x,[0.5,50])\n",
    "print(ANS)\n",
    "\n",
    "def x(z):\n",
    "    Kc1,T = z\n",
    "    eqn1 = -Kc1 + 20.57 - 70000/8.314*(1/(T) - 1/600)\n",
    "    eqn3 = -T + 300 + 200*Kc1/(1 + Kc1)\n",
    "    return [eqn1,eqn3]\n",
    "ANS = fsolve(x,[20,400])\n",
    "print(ANS)"
   ]
  },
  {
   "cell_type": "code",
   "execution_count": 5,
   "metadata": {
    "collapsed": false
   },
   "outputs": [
    {
     "name": "stderr",
     "output_type": "stream",
     "text": [
      "C:\\Users\\reube\\Anaconda3\\lib\\site-packages\\scipy\\optimize\\minpack.py:161: RuntimeWarning: The iteration is not making good progress, as measured by the \n",
      "  improvement from the last ten iterations.\n",
      "  warnings.warn(msg, RuntimeWarning)\n"
     ]
    },
    {
     "data": {
      "image/png": "[encoded data removed]",
      "text/plain": [
       "<matplotlib.figure.Figure at 0x249ea669898>"
      ]
     },
     "metadata": {},
     "output_type": "display_data"
    }
   ],
   "source": [
    "k = 100\n",
    "Cao = 1\n",
    "def x(z,m):\n",
    "    x,Kc1 = z\n",
    "    T, ra = m\n",
    "    eqn1 = Kc1 - 0.02*exp(1000*(1/T - 1/1000))\n",
    "#     eqn2 = x - Kc1/(1 + Kc1)\n",
    "    k = 0.1*exp(-1/T)\n",
    "    eqn3 = ra + k*Cao*(1 - x) - k/Kc1*(Cao*x)\n",
    "\n",
    "    return [eqn1,eqn3]\n",
    "tspan = linspace(5,200,100)\n",
    "rspan = linspace(0.001,1,10)\n",
    "for ra in rspan:\n",
    "    X =  [fsolve(x,[0.5,50],args = [T,ra])[0] for T in tspan]\n",
    "    plt.plot(tspan,X)\n",
    "plt.show()\n",
    "\n",
    "# K =  [fsolve(x,[0.5,50],args = T)[1] for T in tspan]\n",
    "\n",
    "# plt.plot(tspan,K)"
   ]
  },
  {
   "cell_type": "code",
   "execution_count": 6,
   "metadata": {
    "collapsed": false
   },
   "outputs": [
    {
     "data": {
      "image/png": "[encoded data removed]",
      "text/plain": [
       "<matplotlib.figure.Figure at 0x249ea891eb8>"
      ]
     },
     "metadata": {},
     "output_type": "display_data"
    },
    {
     "data": {
      "text/plain": [
       "(-1, 1)"
      ]
     },
     "execution_count": 6,
     "metadata": {},
     "output_type": "execute_result"
    },
    {
     "data": {
      "image/png": "[encoded data removed]",
      "text/plain": [
       "<matplotlib.figure.Figure at 0x249ea927e10>"
      ]
     },
     "metadata": {},
     "output_type": "display_data"
    }
   ],
   "source": [
    "k = 1\n",
    "Cao = 1\n",
    "def x(z,m):\n",
    "    x,Kc1 = z\n",
    "    T, ra = m\n",
    "    eqn1 = Kc1 - 1*exp(-100*(1/T - 1/100))\n",
    "    eqn2 = x - Kc1/(1 + Kc1)\n",
    "#     k = 1*exp(-10/T)\n",
    "#     eqn3 = ra + k*Cao*(1 - x) - k/Kc1*(Cao*x)\n",
    "\n",
    "    return [eqn1,eqn2]\n",
    "tspan = linspace(100,200,100)\n",
    "\n",
    "X =  array([fsolve(x,[0.5,50],args = [T,ra])[0] for T in tspan])\n",
    "plt.plot(tspan,X)\n",
    "K = array([fsolve(x,[0.5,50],args = [T,ra])[1] for T in tspan])\n",
    "ra = k*Cao*(1 - X) - (k/K)*(Cao*X)\n",
    "\n",
    "plt.show()\n",
    "plt.plot(tspan,ra)\n",
    "plt.ylim([-1,1])"
   ]
  },
  {
   "cell_type": "code",
   "execution_count": 8,
   "metadata": {
    "collapsed": false
   },
   "outputs": [],
   "source": [
    "# k = 100\n",
    "# Cao = 1\n",
    "# def x(z,m):\n",
    "#     x,Kc1 = z\n",
    "#     T, ra = m\n",
    "#     Kc1 = 0.02*exp(1000*(1/T - 1/1000))\n",
    "# #     eqn2 = x - Kc1/(1 + Kc1)\n",
    "#     k = 0.1*exp(-1/T)\n",
    "#     eqn3 = ra + k*Cao*(1 - x) - k/Kc1*(Cao*x)\n",
    "\n",
    "#     return [eqn3]\n",
    "# tspan = linspace(5,200,100)\n",
    "# rspan = linspace(0.001,1,10)\n",
    "# for ra in rspan:\n",
    "#     X =  [fsolve(x,[0.5,50],args = [T,ra])[0] for T in tspan]\n",
    "#     plt.plot(tspan,X)\n",
    "# plt.show()"
   ]
  },
  {
   "cell_type": "code",
   "execution_count": 27,
   "metadata": {
    "collapsed": false
   },
   "outputs": [
    {
     "ename": "AttributeError",
     "evalue": "'numpy.ndarray' object has no attribute 'list'",
     "output_type": "error",
     "traceback": [
      "\u001b[1;31m---------------------------------------------------------------------------\u001b[0m",
      "\u001b[1;31mAttributeError\u001b[0m                            Traceback (most recent call last)",
      "\u001b[1;32m<ipython-input-27-07237f68336e>\u001b[0m in \u001b[0;36m<module>\u001b[1;34m()\u001b[0m\n\u001b[0;32m      7\u001b[0m         \u001b[0mTc\u001b[0m\u001b[1;33m.\u001b[0m\u001b[0mappend\u001b[0m\u001b[1;33m(\u001b[0m\u001b[0mT\u001b[0m\u001b[1;33m[\u001b[0m\u001b[0mi\u001b[0m\u001b[1;33m]\u001b[0m\u001b[1;33m)\u001b[0m\u001b[1;33m\u001b[0m\u001b[0m\n\u001b[0;32m      8\u001b[0m \u001b[0mTc\u001b[0m\u001b[1;33m\u001b[0m\u001b[0m\n\u001b[1;32m----> 9\u001b[1;33m \u001b[0mC\u001b[0m\u001b[1;33m.\u001b[0m\u001b[0mappend\u001b[0m\u001b[1;33m(\u001b[0m\u001b[0mzeros\u001b[0m\u001b[1;33m(\u001b[0m\u001b[1;36m2\u001b[0m\u001b[1;33m)\u001b[0m\u001b[1;33m.\u001b[0m\u001b[0mlist\u001b[0m\u001b[1;33m)\u001b[0m\u001b[1;33m\u001b[0m\u001b[0m\n\u001b[0m\u001b[0;32m     10\u001b[0m \u001b[0mC\u001b[0m\u001b[1;33m\u001b[0m\u001b[0m\n",
      "\u001b[1;31mAttributeError\u001b[0m: 'numpy.ndarray' object has no attribute 'list'"
     ]
    }
   ],
   "source": [
    "T = [0,1,2,3,4]\n",
    "C = [5,0,5,5,5]\n",
    "\n",
    "Tc = []\n",
    "for i in range(len(T)):\n",
    "    if C[i] > 0 :\n",
    "        Tc.append(T[i])\n",
    "Tc."
   ]
  }
 ],
 "metadata": {
  "kernelspec": {
   "display_name": "Python 3",
   "language": "python",
   "name": "python3"
  },
  "language_info": {
   "codemirror_mode": {
    "name": "ipython",
    "version": 3
   },
   "file_extension": ".py",
   "mimetype": "text/x-python",
   "name": "python",
   "nbconvert_exporter": "python",
   "pygments_lexer": "ipython3",
   "version": "3.5.1"
  }
 },
 "nbformat": 4,
 "nbformat_minor": 0
}
