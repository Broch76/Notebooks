{
 "cells": [
  {
   "cell_type": "code",
   "execution_count": 2,
   "metadata": {
    "collapsed": false
   },
   "outputs": [],
   "source": [
    "from scipy.optimize import fsolve\n",
    "from matplotlib import pyplot as plt\n",
    "import numpy as np\n",
    "from scipy.integrate import odeint\n",
    "%matplotlib inline"
   ]
  },
  {
   "cell_type": "code",
   "execution_count": 3,
   "metadata": {
    "collapsed": false
   },
   "outputs": [
    {
     "name": "stdout",
     "output_type": "stream",
     "text": [
      "9.9899408225e-05\n"
     ]
    },
    {
     "data": {
      "text/plain": [
       "0.15418635449358759"
      ]
     },
     "execution_count": 3,
     "metadata": {},
     "output_type": "execute_result"
    }
   ],
   "source": [
    "\"\"\"5.2\"\"\"\n",
    "ki = 0.0001\n",
    "kinew = 0\n",
    "pc = 1600\n",
    "R = 1E-3\n",
    "De = 5E-9\n",
    "\n",
    "while abs(ki - kinew) > 1E-9:\n",
    "    ki = kinew\n",
    "    O = (ki*pc*(R**2)/De)**0.5\n",
    "\n",
    "    if O > 20:\n",
    "        n = 3/O\n",
    "    elif 20 > O > 2:\n",
    "        n = 3/(O**2)*(O/np.tanh(O) - 1)\n",
    "    else:\n",
    "        n = 1\n",
    "\n",
    "    kinew = 4.363289E-5/n\n",
    "\n",
    "def func(ki):\n",
    "    O = (ki*pc*(R**2)/De)**0.5\n",
    "\n",
    "    if O > 20:\n",
    "        n = 3/O\n",
    "    elif 20 > O > 2:\n",
    "        n = 3/(O**2)*(O/np.tanh(O) - 1)\n",
    "    else:\n",
    "        n = 1\n",
    "\n",
    "    kinew = 4.363289E-5/n\n",
    "\n",
    "    return (kinew - ki)\n",
    "\n",
    "Ki = fsolve(func,0.0001)\n",
    "   \n",
    "print (ki)\n",
    "O = 18.3995018\n",
    "\n",
    "n = 3/(O**2)*(O/np.tanh(O) - 1)\n",
    "n\n"
   ]
  },
  {
   "cell_type": "code",
   "execution_count": 4,
   "metadata": {
    "collapsed": false
   },
   "outputs": [
    {
     "name": "stdout",
     "output_type": "stream",
     "text": [
      "9.9899408225e-05\n"
     ]
    },
    {
     "data": {
      "text/plain": [
       "0.15418635449358759"
      ]
     },
     "execution_count": 4,
     "metadata": {},
     "output_type": "execute_result"
    }
   ],
   "source": [
    "\"\"\"5.2\"\"\"\n",
    "ki = 0.0001\n",
    "kinew = 0\n",
    "pc = 1600\n",
    "R = 1E-3\n",
    "De = 5E-9\n",
    "\n",
    "while abs(ki - kinew) > 1E-9:\n",
    "    ki = kinew\n",
    "    O = (ki*pc*(R**2)/De)**0.5\n",
    "\n",
    "    if O > 20:\n",
    "        n = 3/O\n",
    "    elif 20 > O > 2:\n",
    "        n = 3/(O**2)*(O/np.tanh(O) - 1)\n",
    "    else:\n",
    "        n = 1\n",
    "\n",
    "    kinew = 4.363289E-5/n\n",
    "\n",
    "def func(ki):\n",
    "    O = (ki*pc*(R**2)/De)**0.5\n",
    "\n",
    "    if O > 20:\n",
    "        n = 3/O\n",
    "    elif 20 > O > 2:\n",
    "        n = 3/(O**2)*(O/np.tanh(O) - 1)\n",
    "    else:\n",
    "        n = 1\n",
    "\n",
    "    kinew = 4.363289E-5/n\n",
    "\n",
    "    return (kinew - ki)\n",
    "\n",
    "Ki = fsolve(func,0.0001)\n",
    "   \n",
    "print (ki)\n",
    "O = 18.3995018\n",
    "\n",
    "n = 3/(O**2)*(O/np.tanh(O) - 1)\n",
    "n\n"
   ]
  },
  {
   "cell_type": "code",
   "execution_count": 5,
   "metadata": {
    "collapsed": false
   },
   "outputs": [
    {
     "name": "stdout",
     "output_type": "stream",
     "text": [
      "[ 0.01865168]\n"
     ]
    },
    {
     "data": {
      "text/plain": [
       "array([ 0.21445786])"
      ]
     },
     "execution_count": 5,
     "metadata": {},
     "output_type": "execute_result"
    }
   ],
   "source": [
    "pc = 2500\n",
    "R = 0.5E-3\n",
    "De = 7E-8\n",
    "\n",
    "def func(ki):\n",
    "    O = (ki*pc*(R**2)/De)**0.5\n",
    "\n",
    "    if O > 20:\n",
    "        n = 3/O\n",
    "    elif 20 > O > 2:\n",
    "        n = 3/(O**2)*(O/np.tanh(O) - 1)\n",
    "    else:\n",
    "        n = 1\n",
    "\n",
    "    kinew = 4E-3/n\n",
    "#     print (n)\n",
    "    return (kinew - ki)\n",
    "\n",
    "Ki = fsolve(func,0.1)\n",
    "   \n",
    "print (Ki)\n",
    "\n",
    "O = (Ki*pc*(R**2)/De)**0.5\n",
    "if O > 20:\n",
    "    n = 3/O\n",
    "elif 20 > O > 2:\n",
    "    n = 3/(O**2)*(O/np.tanh(O) - 1)\n",
    "else:\n",
    "    n = 1\n",
    "\n",
    "n\n"
   ]
  },
  {
   "cell_type": "code",
   "execution_count": 13,
   "metadata": {
    "collapsed": false
   },
   "outputs": [
    {
     "data": {
      "text/plain": [
       "array([ 0.69267176])"
      ]
     },
     "execution_count": 13,
     "metadata": {},
     "output_type": "execute_result"
    }
   ],
   "source": [
    "\"\"\"5.7 a\"\"\"\n",
    "def Ofunc(O):\n",
    "    n = 3/(O**2)*(O/np.tanh(O) - 1)\n",
    "    return n - 0.63734173\n",
    "\n",
    "Oans = fsolve(Ofunc,5)\n",
    "ki = 2.5252e-3\n",
    "De = 7e-8\n",
    "pc = 2500\n",
    "def func(R):\n",
    "    O = (ki*pc*(R**2)/De)**0.5\n",
    "    return O - Oans\n",
    "\n",
    "R = fsolve(func,0.0001)\n",
    "R*2*1000"
   ]
  },
  {
   "cell_type": "code",
   "execution_count": 24,
   "metadata": {
    "collapsed": false
   },
   "outputs": [
    {
     "name": "stdout",
     "output_type": "stream",
     "text": [
      "[ 0.02312759]\n"
     ]
    },
    {
     "data": {
      "text/plain": [
       "array([ 389.00806169])"
      ]
     },
     "execution_count": 24,
     "metadata": {},
     "output_type": "execute_result"
    }
   ],
   "source": [
    "\"\"\"5.7 b\"\"\"\n",
    "pc = 2500\n",
    "R = 1.5e-3\n",
    "De = 7E-8\n",
    "nki = 1.609437912e-3\n",
    "\n",
    "def func(ki):\n",
    "    O = (ki*pc*(R**2)/De)**0.5\n",
    "\n",
    "    if O > 20:\n",
    "        n = 3/O\n",
    "    elif 20 > O > 2:\n",
    "        n = 3/(O**2)*(O/np.tanh(O) - 1)\n",
    "    else:\n",
    "        n = 1\n",
    "\n",
    "    kinew = nki/n\n",
    "#     print (n)\n",
    "    return (kinew - ki)\n",
    "\n",
    "Ki = fsolve(func,1)\n",
    "   \n",
    "print (Ki)\n",
    "Ko = 248.79\n",
    "def rate(T):\n",
    "    ki = Ko*np.exp(-50000/(8.134*T))\n",
    "    return ki - Ki\n",
    "\n",
    "Temp = fsolve(rate,300)\n",
    "Temp -273.15"
   ]
  }
 ],
 "metadata": {
  "kernelspec": {
   "display_name": "Python 3",
   "language": "python",
   "name": "python3"
  },
  "language_info": {
   "codemirror_mode": {
    "name": "ipython",
    "version": 3
   },
   "file_extension": ".py",
   "mimetype": "text/x-python",
   "name": "python",
   "nbconvert_exporter": "python",
   "pygments_lexer": "ipython3",
   "version": "3.5.1"
  }
 },
 "nbformat": 4,
 "nbformat_minor": 0
}
