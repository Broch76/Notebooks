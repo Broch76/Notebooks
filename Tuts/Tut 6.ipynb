{
 "cells": [
  {
   "cell_type": "code",
   "execution_count": 1,
   "metadata": {
    "collapsed": true
   },
   "outputs": [],
   "source": [
    "from scipy.optimize import fsolve\n",
    "from matplotlib import pyplot as plt\n",
    "import numpy as np\n",
    "from scipy.integrate import odeint\n",
    "%matplotlib inline"
   ]
  },
  {
   "cell_type": "code",
   "execution_count": 2,
   "metadata": {
    "collapsed": false
   },
   "outputs": [
    {
     "name": "stdout",
     "output_type": "stream",
     "text": [
      "[ 0.00298188]\n"
     ]
    },
    {
     "data": {
      "text/plain": [
       "array([ 0.50784517])"
      ]
     },
     "execution_count": 2,
     "metadata": {},
     "output_type": "execute_result"
    }
   ],
   "source": [
    "\"\"\"5.7 b\"\"\"\n",
    "pc = 1600\n",
    "R = 0.15e-3\n",
    "De = 5E-9\n",
    "nki = 1.5143319E-3\n",
    "\n",
    "def func(ki):\n",
    "    O = (ki*pc*(R**2)/De)**0.5\n",
    "\n",
    "    if O > 20:\n",
    "        n = 3/O\n",
    "    elif 20 > O > 2:\n",
    "        n = 3/(O**2)*(O/np.tanh(O) - 1)\n",
    "    else:\n",
    "        n = 1\n",
    "\n",
    "    kinew = nki/n\n",
    "#     print (n)\n",
    "    return (kinew - ki)\n",
    "\n",
    "Ki = fsolve(func,1)\n",
    "   \n",
    "print (Ki)\n",
    "\n",
    "O = (Ki*pc*(R**2)/De)**0.5\n",
    "\n",
    "if O > 20:\n",
    "    n = 3/O\n",
    "elif 20 > O > 2:\n",
    "    n = 3/(O**2)*(O/np.tanh(O) - 1)\n",
    "else:\n",
    "    n = 1\n",
    "n"
   ]
  },
  {
   "cell_type": "code",
   "execution_count": 10,
   "metadata": {
    "collapsed": false
   },
   "outputs": [
    {
     "data": {
      "text/plain": [
       "0.9428570253061157"
      ]
     },
     "execution_count": 10,
     "metadata": {},
     "output_type": "execute_result"
    }
   ],
   "source": [
    "def ratio(X):\n",
    "    rr, x, xcs = X\n",
    "    \n",
    "    eqn1 = rr - x/0.6\n",
    "    eqn2 = rr - 1.833333*(1  -xcs)/0.8\n",
    "    eqn3 = rr - xcs/0.2\n",
    "    return eqn1,eqn2,eqn3\n",
    "    \n",
    "rr, x, xcs = fsolve(ratio,[1.1,1,1])\n",
    "x"
   ]
  }
 ],
 "metadata": {
  "kernelspec": {
   "display_name": "Python 3",
   "language": "python",
   "name": "python3"
  },
  "language_info": {
   "codemirror_mode": {
    "name": "ipython",
    "version": 3
   },
   "file_extension": ".py",
   "mimetype": "text/x-python",
   "name": "python",
   "nbconvert_exporter": "python",
   "pygments_lexer": "ipython3",
   "version": "3.5.1"
  }
 },
 "nbformat": 4,
 "nbformat_minor": 0
}
