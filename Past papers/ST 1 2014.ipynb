{
 "cells": [
  {
   "cell_type": "code",
   "execution_count": 3,
   "metadata": {
    "collapsed": false
   },
   "outputs": [],
   "source": [
    "from scipy.optimize import fsolve\n",
    "from matplotlib import pyplot as plt\n",
    "import numpy as np\n",
    "from scipy.integrate import odeint\n",
    "%matplotlib inline"
   ]
  },
  {
   "cell_type": "code",
   "execution_count": 6,
   "metadata": {
    "collapsed": false
   },
   "outputs": [],
   "source": [
    "\"\"\"Q1 a)\"\"\"\n",
    "\n",
    "A = (pi/4)*0.085**2\n",
    "G = (40/60)*30/1000/A\n",
    "E = 0.4\n",
    "Po = 5*101.325*1000\n",
    "dp = 0.003\n",
    "mu = 2e-5\n",
    "FT = 40 #mol/mi\n",
    "FAo = FT*0.33\n",
    "FBo = 0.67*FT\n",
    "k = 0.05\n",
    "rhoA = (Po/1000)*30/(8.314*(273.15+170))\n",
    "rhoB = 1000\n",
    "K = (1/(rhoB*A))*(-G/(rhoA*dp))*((1-E)/(E**3))*(150*mu*(1-E)/dp + 1.75*G)\n",
    "\n",
    "def PBR(F,t):\n",
    "    FA, FB, FC, P = F\n",
    "    Ftot = (FA + FB + FC)\n",
    "    ra = -k*(FB/Ftot)*P/(101.325*1000)\n",
    "    rb = 2*ra\n",
    "    rc = -ra\n",
    "    dpdw = K*(Po*Ftot)/(P*FT)\n",
    "    return (ra,rb,rc,dpdw)\n",
    "\n",
    "wspan = linspace(0,100,1000)\n",
    "F = odeint(PBR,[FAo,FBo,0,Po],wspan)\n",
    "Fa = F[:,0]\n",
    "P = F[:,3]\n",
    "X = (FAo- Fa)/FAo\n",
    "W = interp(0.5,X,wspan)\n",
    "Pf = interp(0.5,X,P)\n",
    "print ('W = ' +str(W))\n",
    "print ('P = ' +str(Pf/(1000*101.325)))\n",
    "plt.plot(wspan,F[:,3])\n",
    "plt.show()\n",
    "plt.plot(wspan,X)\n",
    "plt.show()"
   ]
  },
  {
   "cell_type": "code",
   "execution_count": 46,
   "metadata": {
    "collapsed": false
   },
   "outputs": [
    {
     "data": {
      "image/png": "[encoded data removed]",
      "text/plain": [
       "<matplotlib.figure.Figure at 0x21cb8e30668>"
      ]
     },
     "metadata": {},
     "output_type": "display_data"
    },
    {
     "data": {
      "image/png": "[encoded data removed]",
      "text/plain": [
       "<matplotlib.figure.Figure at 0x21cb8d56240>"
      ]
     },
     "metadata": {},
     "output_type": "display_data"
    }
   ],
   "source": [
    "\"\"\"Q3\"\"\"\n",
    "V = 40 #l\n",
    "Q = 10\n",
    "FAo = 1*Q\n",
    "FBo = 1*Q\n",
    "Ua = 10\n",
    "Tu = 320\n",
    "To = 425\n",
    "CP = 30\n",
    "CpD = 90\n",
    "Hrxa = 14786\n",
    "Hrxb = 6360\n",
    "def func(Hrxa):\n",
    "\n",
    "    def PBR(F,t):\n",
    "        FA, FB, FC, FD, T = F\n",
    "        rc = 0.043*np.exp(-9000*(1/T - 1/400))*(FA/Q)*(FB/Q)\n",
    "        rd = 0.4*np.exp(-4790*(1/T - 1/500))*(FB/Q)*(FC/Q)\n",
    "        dFAdV = -rc/2\n",
    "        dFBdv = -rc/2 - 2*rd\n",
    "        dFCdV = rc - rd\n",
    "        dFDdV = rd\n",
    "        dTdV = (Ua*(Tu - T) + 0.5*rc*Hrxa + 2*rd*Hrxb)/(FAo*CP + FBo*CP)\n",
    "    #     print (dTdV)\n",
    "    #     dTdV = 1.4\n",
    "        return (dFAdV,dFBdv,dFCdV,dFDdV,dTdV)\n",
    "\n",
    "    Vspan = np.linspace(0,34,34*10.1)\n",
    "    F = odeint(PBR,[FAo,FBo,0,0,To],Vspan)\n",
    "    Fa = F[:,0]\n",
    "    Temp = F[:,4]\n",
    "    return Temp[-1] - 500\n",
    "\n",
    "Hrx = fsolve(func,14500)\n",
    "\n",
    "V = 40 #l\n",
    "Q = 10\n",
    "FAo = 1*Q\n",
    "FBo = 1*Q\n",
    "Ua = 10\n",
    "Tu = 320\n",
    "To = 425\n",
    "CP = 30\n",
    "CpD = 90\n",
    "Hrxa = Hrx[0] \n",
    "Hrxb = 6360\n",
    "\n",
    "def PBR(F,t):\n",
    "    FA, FB, FC, FD, T = F\n",
    "    rc = 0.043*np.exp(-9000*(1/T - 1/400))*(FA/Q)*(FB/Q)\n",
    "    rd = 0.4*np.exp(-4790*(1/T - 1/500))*(FB/Q)*(FC/Q)\n",
    "    dFAdV = -rc/2\n",
    "    dFBdv = -rc/2 - 2*rd\n",
    "    dFCdV = rc - rd\n",
    "    dFDdV = rd\n",
    "    dTdV = (Ua*(Tu - T) + 0.5*rc*Hrxa + 2*rd*Hrxb)/(FAo*CP + FBo*CP)\n",
    "    return (dFAdV,dFBdv,dFCdV,dFDdV,dTdV)\n",
    "\n",
    "Vspan = np.linspace(0,V,V*10.1)\n",
    "F = odeint(PBR,[FAo,FBo,0,0,To],Vspan)\n",
    "Fa = F[:,0]\n",
    "Fb = F[:,1]\n",
    "Temp = F[:,4]\n",
    "plt.plot(Vspan,F[:,:4]/Q)\n",
    "plt.show()\n",
    "plt.plot(Vspan,Temp)\n",
    "plt.show()"
   ]
  },
  {
   "cell_type": "code",
   "execution_count": null,
   "metadata": {
    "collapsed": true
   },
   "outputs": [],
   "source": [
    "V = 40 #l\n",
    "Q = 10\n",
    "FAo = 1*Q\n",
    "FBo = 1*Q\n",
    "Ua = 10\n",
    "Tu = 320\n",
    "To = 425\n",
    "CP = 30\n",
    "CpD = 90\n",
    "Hrxa = Hrx[0] \n",
    "Hrxb = 6360\n",
    "\n",
    "def PBR(F,t):\n",
    "    FA, FB, FC, FD, T = F\n",
    "    rc = 0.043*np.exp(-9000*(1/T - 1/400))*(FA/Q)*(FB/Q)\n",
    "    rd = 0.4*np.exp(-4790*(1/T - 1/500))*(FB/Q)*(FC/Q)\n",
    "    dFAdV = -rc/2\n",
    "    dFBdv = -rc/2 - 2*rd\n",
    "    dFCdV = rc - rd\n",
    "    dFDdV = rd\n",
    "    dTdV = (Ua*(Tu - T) + 0.5*rc*Hrxa + 2*rd*Hrxb)/(FAo*CP + FBo*CP)\n",
    "    return (dFAdV,dFBdv,dFCdV,dFDdV,dTdV)\n",
    "\n",
    "Vspan = np.linspace(0,V,V*10.1)\n",
    "F = odeint(PBR,[FAo,FBo,0,0,To],Vspan)\n",
    "Fa = F[:,0]\n",
    "Fb = F[:,1]\n",
    "Temp = F[:,4]\n",
    "plt.plot(Vspan,F[:,:4]/Q)\n",
    "plt.show()\n",
    "plt.plot(Vspan,Temp)\n",
    "plt.show()"
   ]
  }
 ],
 "metadata": {
  "kernelspec": {
   "display_name": "Python 3",
   "language": "python",
   "name": "python3"
  },
  "language_info": {
   "codemirror_mode": {
    "name": "ipython",
    "version": 3
   },
   "file_extension": ".py",
   "mimetype": "text/x-python",
   "name": "python",
   "nbconvert_exporter": "python",
   "pygments_lexer": "ipython3",
   "version": "3.5.1"
  }
 },
 "nbformat": 4,
 "nbformat_minor": 0
}
