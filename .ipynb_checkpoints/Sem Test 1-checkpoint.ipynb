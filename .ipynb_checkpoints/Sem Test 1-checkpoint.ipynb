{
 "cells": [
  {
   "cell_type": "code",
   "execution_count": 1,
   "metadata": {
    "collapsed": true
   },
   "outputs": [],
   "source": [
    "from scipy.optimize import fsolve\n",
    "from matplotlib import pyplot as plt\n",
    "from numpy import *\n",
    "from scipy.integrate import odeint\n",
    "%matplotlib inline"
   ]
  },
  {
   "cell_type": "code",
   "execution_count": 20,
   "metadata": {
    "collapsed": false
   },
   "outputs": [
    {
     "data": {
      "image/png": "[encoded data removed]",
      "text/plain": [
       "<matplotlib.figure.Figure at 0x1e5d1cf2048>"
      ]
     },
     "metadata": {},
     "output_type": "display_data"
    },
    {
     "name": "stdout",
     "output_type": "stream",
     "text": [
      "Max Conc. = 0.0299330537653 mol/l.min  @ 0.930930930931 min\n"
     ]
    },
    {
     "data": {
      "image/png": "[encoded data removed]",
      "text/plain": [
       "<matplotlib.figure.Figure at 0x1e5d0a70b38>"
      ]
     },
     "metadata": {},
     "output_type": "display_data"
    }
   ],
   "source": [
    "\"\"\"Q1\"\"\"\n",
    "\n",
    "Vo = 5 #L\n",
    "Q = 3 #l/min\n",
    "k = 140 #l/mol.min\n",
    "CAo = 0.05 #mol/l\n",
    "CBo = 0.025 #mol/l\n",
    "\n",
    "\n",
    "def ra(Ca,Cb,V):\n",
    "    return k*Ca*Cb*V\n",
    "\n",
    "\n",
    "def semibatch(C,Time):\n",
    "    Ca,Cb,Cc,V = C\n",
    "    dCadt = (0 - k*Ca*Cb*V - Ca*Q)/V\n",
    "    dCbdt = (CBo*Q + k*Ca*Cb*V - Cb*Q)/V\n",
    "    dCcdt = (0 + k*Ca*Cb*V - Cc*Q)/V\n",
    "    dVdt = Q\n",
    "    return dCadt,dCbdt,dCcdt,dVdt\n",
    "\n",
    "tspan = linspace(0,6,1000)\n",
    "\n",
    "ANS = odeint(semibatch,[CAo,0,0,Vo],tspan)\n",
    "CA = ANS[:,0]\n",
    "CB = ANS[:,1]\n",
    "CC = ANS[:,2]\n",
    "V = ANS[:,3]\n",
    "# rate = k*CA*CB*V\n",
    "plt.title(\"Concentrations vs Time\")\n",
    "plt.plot(tspan,CB)\n",
    "plt.plot(tspan,CA)\n",
    "plt.plot(tspan,CC)\n",
    "plt.show()\n",
    "\n",
    "# plt.title(\"Reaction Rate vs Time\")\n",
    "# plt.plot(tspan,rate)\n",
    "# plt.show()\n",
    "\n",
    "maxra = max(CC)\n",
    "time = tspan[argmax(CC)]\n",
    "Vf = interp(maxra,CC,V)\n",
    "plt.plot(tspan,V)\n",
    "print ('Max Conc. = ' + str(maxra) +  ' mol/l.min  @ ' + str(time) + ' min' )\n"
   ]
  },
  {
   "cell_type": "code",
   "execution_count": 50,
   "metadata": {
    "collapsed": false
   },
   "outputs": [
    {
     "name": "stderr",
     "output_type": "stream",
     "text": [
      "C:\\Users\\reube\\Anaconda3\\lib\\site-packages\\ipykernel\\__main__.py:18: RuntimeWarning: divide by zero encountered in true_divide\n"
     ]
    },
    {
     "data": {
      "image/png": "[encoded data removed]",
      "text/plain": [
       "<matplotlib.figure.Figure at 0x1e5d006a588>"
      ]
     },
     "metadata": {},
     "output_type": "display_data"
    }
   ],
   "source": [
    "\"\"\"Q2\"\"\"\n",
    "CAo = 0.3\n",
    "\n",
    "CA = linspace(CAo,0.0000,1001)\n",
    "\n",
    "Q = 2\n",
    "E = 1000*4.184\n",
    "R = 8.314\n",
    "Hrxn = -6000 #cal/mol\n",
    "CPa = 15 #cal/mol.K\n",
    "To = 300 #K \n",
    "ko = 100000.363 #l/mol.s\n",
    "x = (CAo - CA)/CAo\n",
    "T = To - Hrxn*CAo*Q*x/(CAo*Q*CPa)\n",
    "k = ko*exp(-E/(R*T))\n",
    "ra = k*CA\n",
    "plt.ylim([0,100])\n",
    "plt.plot(x,1/ra)\n",
    "plt.show()\n",
    "# CA[850]\n",
    "# V_c = Q*(CAo - CA[850])*(1/ra[850])\n",
    "# print ('CSTR volume = ' +str(V_c) + 'L')\n",
    "\n",
    "# V_p = np.trapz(1/ra[:850],x[:850])*CAo*Q\n",
    "# print ('PFR volume = ' +str(V_p) + 'L')\n",
    "\n",
    "# plt.plot(x[:850],1/ra[:850])"
   ]
  },
  {
   "cell_type": "code",
   "execution_count": 65,
   "metadata": {
    "collapsed": false
   },
   "outputs": [
    {
     "name": "stdout",
     "output_type": "stream",
     "text": [
      "Hrxn = -3422.61286443\n"
     ]
    },
    {
     "name": "stderr",
     "output_type": "stream",
     "text": [
      "C:\\Users\\reube\\Anaconda3\\lib\\site-packages\\scipy\\optimize\\minpack.py:161: RuntimeWarning: The iteration is not making good progress, as measured by the \n",
      "  improvement from the last ten iterations.\n",
      "  warnings.warn(msg, RuntimeWarning)\n"
     ]
    },
    {
     "data": {
      "text/plain": [
       "array([ -3.42261286e+03,   4.33309448e+02,   5.40404785e+02,\n",
       "        -4.87680162e-01,   1.58935432e+00,   1.16261204e-01,\n",
       "        -2.73732366e-02])"
      ]
     },
     "execution_count": 65,
     "metadata": {},
     "output_type": "execute_result"
    }
   ],
   "source": [
    "\"\"\"CSTR\"\"\"\n",
    "CAo = 0.1\n",
    "CBo = 0\n",
    "Q = 2.5 #L/s\n",
    "FAo = CAo*Q\n",
    "FBo = CBo*Q\n",
    "X = 0.3\n",
    "FA2 = FAo*(1-X)\n",
    "FB2 = FAo*X\n",
    "ko = 8000 #1/s\n",
    "To = 450 #K\n",
    "V = 200 #l\n",
    "CPa = CPb = 100 #J/mol.K\n",
    "E = 60000 #J/mol\n",
    "R = 8.314\n",
    "\n",
    "\n",
    "def CSTR(var):\n",
    "    Hrxn, T1, T2, X1, X2, FA1, FB1  = var\n",
    "    eqn0 = T1  - (To - Hrxn*FAo*X1/(FAo*CPa))\n",
    "    k1 = ko*exp(-E/(R*T1))\n",
    "    eqn1 = FAo - FA1 - k1*(FA1/Q)*V\n",
    "    eqn2 =  - FB1 - k1*(FB1/Q)*V\n",
    "    eqn3 = T2  - (T1 - Hrxn*FA1*X2/(FA1*CPa + FB1*CPb))\n",
    "    k2 = ko*exp(-E/(R*T2))\n",
    "    eqn4 = FA1 - FA2 - k2*(FA2/Q)*V\n",
    "    eqn5 =  - FB2 - k1*(FB2/Q)*V\n",
    "    eqn6 = X - (FAo*X1 + FA1*X2)/FAo\n",
    "    return (eqn0,eqn1,eqn2,eqn3,eqn4,eqn5,eqn6)\n",
    "\n",
    "ANs = fsolve(CSTR,[-15000,500,555,0.1,0.1,0.1,0.001])\n",
    "print ('Hrxn = ' +str(ANs[0]))\n",
    "ANs\n",
    "# def CSTR_250_1(x):\n",
    "#     FA = FAo*(1-x)\n",
    "#     T = To - Hrxn*CAo*Q*x/(CAo*Q*CPa + CBo*Q*CPb)\n",
    "#     k = ko*np.exp(-E/(R*T))\n",
    "#     V = 250\n",
    "#     eqn1 = FAo - FA - k*(FA/Q)*(FB/Q)*V\n",
    "#     return (eqn1)\n",
    "\n",
    "# X_250_1 = fsolve(CSTR_250_1,[0.5])\n",
    "\n",
    "# FAo2 = FAo*(1-X_250_1)\n",
    "# def CSTR_250_2(x):\n",
    "#     FA = FAo2*(1-x)\n",
    "#     T = To - Hrxn*CAo*Q*x/(CAo*Q*CPa + CBo*Q*CPb)\n",
    "#     k = ko*np.exp(-E/(R*T))\n",
    "#     V = 250\n",
    "#     eqn1 = FAo2 - FA - k*(FA/Q)*(FB/Q)*V\n",
    "#     return (eqn1)\n",
    "\n",
    "# X_250_2 = fsolve(CSTR_250_2,[0.9])\n",
    "\n",
    "# print ('X with two 250l = ' +str(X_250_2[0]))"
   ]
  }
 ],
 "metadata": {
  "kernelspec": {
   "display_name": "Python 3",
   "language": "python",
   "name": "python3"
  },
  "language_info": {
   "codemirror_mode": {
    "name": "ipython",
    "version": 3
   },
   "file_extension": ".py",
   "mimetype": "text/x-python",
   "name": "python",
   "nbconvert_exporter": "python",
   "pygments_lexer": "ipython3",
   "version": "3.5.1"
  }
 },
 "nbformat": 4,
 "nbformat_minor": 0
}
