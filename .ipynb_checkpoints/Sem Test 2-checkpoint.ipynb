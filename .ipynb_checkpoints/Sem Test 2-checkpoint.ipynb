{
 "cells": [
  {
   "cell_type": "code",
   "execution_count": 1,
   "metadata": {
    "collapsed": true
   },
   "outputs": [],
   "source": [
    "from scipy.optimize import fsolve\n",
    "from matplotlib import pyplot as plt\n",
    "from numpy import *\n",
    "from scipy.integrate import odeint\n",
    "%matplotlib inline"
   ]
  },
  {
   "cell_type": "code",
   "execution_count": 11,
   "metadata": {
    "collapsed": false
   },
   "outputs": [
    {
     "data": {
      "text/plain": [
       "319.39393939393949"
      ]
     },
     "execution_count": 11,
     "metadata": {},
     "output_type": "execute_result"
    },
    {
     "data": {
      "image/png": "[encoded data removed]",
      "text/plain": [
       "<matplotlib.figure.Figure at 0x1563d35cfd0>"
      ]
     },
     "metadata": {},
     "output_type": "display_data"
    }
   ],
   "source": [
    "\n",
    "T  = linspace(300,700,100)\n",
    "k = 19300*exp(-67000/(8.314*T))\n",
    "Kc = 2000*exp((32000/8.314)*(1/T  -1/300))\n",
    "ra = k*(0.1)*(1-0.6) - (k/Kc)*0.1*0.6\n",
    "plt.plot(T,ra)\n",
    "Tout = T[argmax(ra)]\n",
    "To = Tout - 32000/60*0.6\n",
    "To"
   ]
  },
  {
   "cell_type": "code",
   "execution_count": 17,
   "metadata": {
    "collapsed": false
   },
   "outputs": [
    {
     "data": {
      "text/plain": [
       "[<matplotlib.lines.Line2D at 0x1563e4fafd0>]"
      ]
     },
     "execution_count": 17,
     "metadata": {},
     "output_type": "execute_result"
    },
    {
     "data": {
      "image/png": "[encoded data removed]",
      "text/plain": [
       "<matplotlib.figure.Figure at 0x1563d3db3c8>"
      ]
     },
     "metadata": {},
     "output_type": "display_data"
    }
   ],
   "source": [
    "x = linspace(0,1,101)\n",
    "T  = 300 + 32000/60*x\n",
    "k = 19300*exp(-67000/(8.314*T))\n",
    "Kc = 2000*exp((32000/8.314)*(1/T  -1/300))\n",
    "ra = k*(0.1)*(1-x) - (k/Kc)*0.1*x\n",
    "plt.plot(x,ra)\n",
    "# Tout = T[argmax(ra)]\n",
    "# To = Tout - 32000/60*0.6\n",
    "# To\n",
    "\n",
    "def func(X)"
   ]
  },
  {
   "cell_type": "code",
   "execution_count": 69,
   "metadata": {
    "collapsed": false
   },
   "outputs": [
    {
     "data": {
      "text/plain": [
       "(650, 655)"
      ]
     },
     "execution_count": 69,
     "metadata": {},
     "output_type": "execute_result"
    },
    {
     "data": {
      "image/png": "[encoded data removed]",
      "text/plain": [
       "<matplotlib.figure.Figure at 0x1563d3e1240>"
      ]
     },
     "metadata": {},
     "output_type": "display_data"
    }
   ],
   "source": [
    "def x(z,m):\n",
    "    x,Kc1 = z\n",
    "    T, ra = m\n",
    "    eqn1 = Kc1 - 2000*exp(32000/8.3214*(1/T - 1/300))\n",
    "    eqn2 = x - Kc1/(1 + Kc1)\n",
    "#     k = 1*exp(-10/T)\n",
    "#     eqn3 = ra + k*Cao*(1 - x) - k/Kc1*(Cao*x)\n",
    "\n",
    "    return [eqn1,eqn2]\n",
    "tspan = linspace(300,700,100)\n",
    "\n",
    "X =  array([fsolve(x,[0.5,50],args = [T,ra])[0] for T in tspan])\n",
    "x = linspace(0,1,101)\n",
    "T  = 300 + 32000/60*x\n",
    "plt.plot(tspan, X)\n",
    "plt.plot(T,x)\n",
    "plt.ylim([0.64,.67])\n",
    "plt.xlim([650,655])"
   ]
  },
  {
   "cell_type": "code",
   "execution_count": 62,
   "metadata": {
    "collapsed": false
   },
   "outputs": [
    {
     "name": "stdout",
     "output_type": "stream",
     "text": [
      "[  2.98305333e-05]\n"
     ]
    },
    {
     "data": {
      "text/plain": [
       "array([ 4.03952269])"
      ]
     },
     "execution_count": 62,
     "metadata": {},
     "output_type": "execute_result"
    }
   ],
   "source": [
    "\"\"\"5.2\"\"\"\n",
    "ki = 0.0001\n",
    "\n",
    "pc = 1800\n",
    "R = 1E-3\n",
    "De = 1.5E-10\n",
    "\n",
    "\n",
    "def func(ki):\n",
    "    O = (ki*pc*(R**2)/De)**0.5\n",
    "\n",
    "    if O > 20:\n",
    "        n = 3/O\n",
    "    elif 20 > O > 2:\n",
    "        n = 3/(O**2)*(O/tanh(O) - 1)\n",
    "    else:\n",
    "        n = 1\n",
    "\n",
    "    kinew = 4.48E-6/n\n",
    "\n",
    "    return (kinew - ki)\n",
    "\n",
    "Ki = fsolve(func,0.02)\n",
    "   \n",
    "print (Ki)\n",
    "\n",
    "O = (Ki*pc*(R**2)/De)**0.5\n",
    "\n",
    "if O > 20:\n",
    "    n = 3/O\n",
    "elif 20 > O > 2:\n",
    "    n = 3/(O**2)*(O/tanh(O) - 1)\n",
    "else:\n",
    "    n = 1\n",
    "n2 = n\n",
    "\n",
    "O = (Ki*pc*((R/2)**2)/De)**0.5\n",
    "\n",
    "if O > 20:\n",
    "    n = 3/O\n",
    "elif 20 > O > 2:\n",
    "    n = 3/(O**2)*(O/tanh(O) - 1)\n",
    "else:\n",
    "    n = 1\n",
    "    \n",
    "n1 = n\n",
    "n2\n",
    "n1\n",
    "\n",
    "def fun2(kc):\n",
    "    ans = 2.8E-6 - (n2*Ki*kc*5/3)/(n2*Ki + kc*5/3)\n",
    "    return ans\n",
    "Kc = fsolve(fun2,0.00002)\n",
    "Kc\n",
    "ratio = (2E-3)**0.5/(1E-3)**0.5\n",
    "ratio\n",
    "kc1 = Kc*ratio\n",
    "n1\n",
    "keff = (n1*Ki*kc1*10/3)/(n1*Ki + kc1*10/3)\n",
    "keff\n",
    "Ccat = 0.122/(keff*5000)\n",
    "Ccat\n",
    "# keff = (n2*Ki*Kc*5/3)/(n2*Ki + Kc*5/3)\n",
    "# keff"
   ]
  },
  {
   "cell_type": "code",
   "execution_count": 65,
   "metadata": {
    "collapsed": false
   },
   "outputs": [
    {
     "data": {
      "text/plain": [
       "[<matplotlib.lines.Line2D at 0x1563e569860>]"
      ]
     },
     "execution_count": 65,
     "metadata": {},
     "output_type": "execute_result"
    },
    {
     "data": {
      "image/png": "[encoded data removed]",
      "text/plain": [
       "<matplotlib.figure.Figure at 0x1563d1b1c88>"
      ]
     },
     "metadata": {},
     "output_type": "display_data"
    }
   ],
   "source": [
    "s = linspace(0.1,10,1001)\n",
    "O = (s*Ki*pc*(R**2)/De)**0.5\n",
    "n = 3/(O**2)*(O/tanh(O) - 1)\n",
    "plt.plot(s,n)"
   ]
  }
 ],
 "metadata": {
  "kernelspec": {
   "display_name": "Python 3",
   "language": "python",
   "name": "python3"
  },
  "language_info": {
   "codemirror_mode": {
    "name": "ipython",
    "version": 3
   },
   "file_extension": ".py",
   "mimetype": "text/x-python",
   "name": "python",
   "nbconvert_exporter": "python",
   "pygments_lexer": "ipython3",
   "version": "3.5.1"
  }
 },
 "nbformat": 4,
 "nbformat_minor": 0
}
